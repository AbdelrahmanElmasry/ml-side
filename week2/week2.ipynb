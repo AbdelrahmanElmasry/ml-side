{
 "cells": [
  {
   "cell_type": "code",
   "execution_count": 1,
   "id": "b93cee55",
   "metadata": {},
   "outputs": [],
   "source": [
    "import pandas as pd"
   ]
  },
  {
   "cell_type": "code",
   "execution_count": 8,
   "id": "711293c9",
   "metadata": {},
   "outputs": [],
   "source": [
    "dataSrc = 'https://github.com/alexeygrigorev/mlbookcamp-code/blob/master/chapter-02-car-price/data.csv'"
   ]
  },
  {
   "cell_type": "code",
   "execution_count": 16,
   "id": "5e6bfbea",
   "metadata": {},
   "outputs": [
    {
     "name": "stdout",
     "output_type": "stream",
     "text": [
      "--2023-09-26 18:35:40--  https://github.com/alexeygrigorev/mlbookcamp-code/blob/master/chapter-02-car-price/data.csv\n",
      "Resolving github.com (github.com)... 140.82.121.4\n",
      "Connecting to github.com (github.com)|140.82.121.4|:443... connected.\n",
      "HTTP request sent, awaiting response... 200 OK\n",
      "Length: 5788 (5.7K) [text/plain]\n",
      "Saving to: ‘data.csv’\n",
      "\n",
      "data.csv            100%[===================>]   5.65K  --.-KB/s    in 0s      \n",
      "\n",
      "2023-09-26 18:35:41 (66.8 MB/s) - ‘data.csv’ saved [5788/5788]\n",
      "\n"
     ]
    }
   ],
   "source": [
    "!wget $dataSrc"
   ]
  },
  {
   "cell_type": "code",
   "execution_count": 2,
   "id": "da100551",
   "metadata": {},
   "outputs": [],
   "source": [
    "df = pd.read_csv('../../housing.csv')"
   ]
  },
  {
   "cell_type": "code",
   "execution_count": 3,
   "id": "c23be42b",
   "metadata": {},
   "outputs": [],
   "source": [
    "df = df[(df['ocean_proximity'] == '<1H OCEAN') | (df['ocean_proximity'] == 'INLAND')]\n",
    "columns = ['latitude',\n",
    "'longitude',\n",
    "'housing_median_age',\n",
    "'total_rooms',\n",
    "'total_bedrooms',\n",
    "'population',\n",
    "'households',\n",
    "'median_income',\n",
    "'median_house_value']\n",
    "df = df[columns]"
   ]
  },
  {
   "cell_type": "code",
   "execution_count": 4,
   "id": "e31dafc3",
   "metadata": {},
   "outputs": [
    {
     "data": {
      "text/html": [
       "<div>\n",
       "<style scoped>\n",
       "    .dataframe tbody tr th:only-of-type {\n",
       "        vertical-align: middle;\n",
       "    }\n",
       "\n",
       "    .dataframe tbody tr th {\n",
       "        vertical-align: top;\n",
       "    }\n",
       "\n",
       "    .dataframe thead th {\n",
       "        text-align: right;\n",
       "    }\n",
       "</style>\n",
       "<table border=\"1\" class=\"dataframe\">\n",
       "  <thead>\n",
       "    <tr style=\"text-align: right;\">\n",
       "      <th></th>\n",
       "      <th>latitude</th>\n",
       "      <th>longitude</th>\n",
       "      <th>housing_median_age</th>\n",
       "      <th>total_rooms</th>\n",
       "      <th>total_bedrooms</th>\n",
       "      <th>population</th>\n",
       "      <th>households</th>\n",
       "      <th>median_income</th>\n",
       "      <th>median_house_value</th>\n",
       "    </tr>\n",
       "  </thead>\n",
       "  <tbody>\n",
       "    <tr>\n",
       "      <th>701</th>\n",
       "      <td>37.64</td>\n",
       "      <td>-121.97</td>\n",
       "      <td>32.0</td>\n",
       "      <td>1283.0</td>\n",
       "      <td>194.0</td>\n",
       "      <td>485.0</td>\n",
       "      <td>171.0</td>\n",
       "      <td>6.0574</td>\n",
       "      <td>431000.0</td>\n",
       "    </tr>\n",
       "    <tr>\n",
       "      <th>830</th>\n",
       "      <td>37.61</td>\n",
       "      <td>-121.99</td>\n",
       "      <td>9.0</td>\n",
       "      <td>3666.0</td>\n",
       "      <td>711.0</td>\n",
       "      <td>2341.0</td>\n",
       "      <td>703.0</td>\n",
       "      <td>4.6458</td>\n",
       "      <td>217000.0</td>\n",
       "    </tr>\n",
       "    <tr>\n",
       "      <th>859</th>\n",
       "      <td>37.57</td>\n",
       "      <td>-121.97</td>\n",
       "      <td>21.0</td>\n",
       "      <td>4342.0</td>\n",
       "      <td>783.0</td>\n",
       "      <td>2172.0</td>\n",
       "      <td>789.0</td>\n",
       "      <td>4.6146</td>\n",
       "      <td>247600.0</td>\n",
       "    </tr>\n",
       "    <tr>\n",
       "      <th>860</th>\n",
       "      <td>37.58</td>\n",
       "      <td>-121.96</td>\n",
       "      <td>15.0</td>\n",
       "      <td>3575.0</td>\n",
       "      <td>597.0</td>\n",
       "      <td>1777.0</td>\n",
       "      <td>559.0</td>\n",
       "      <td>5.7192</td>\n",
       "      <td>283500.0</td>\n",
       "    </tr>\n",
       "    <tr>\n",
       "      <th>861</th>\n",
       "      <td>37.58</td>\n",
       "      <td>-121.98</td>\n",
       "      <td>20.0</td>\n",
       "      <td>4126.0</td>\n",
       "      <td>1031.0</td>\n",
       "      <td>2079.0</td>\n",
       "      <td>975.0</td>\n",
       "      <td>3.6832</td>\n",
       "      <td>216900.0</td>\n",
       "    </tr>\n",
       "  </tbody>\n",
       "</table>\n",
       "</div>"
      ],
      "text/plain": [
       "     latitude  longitude  housing_median_age  total_rooms  total_bedrooms  \\\n",
       "701     37.64    -121.97                32.0       1283.0           194.0   \n",
       "830     37.61    -121.99                 9.0       3666.0           711.0   \n",
       "859     37.57    -121.97                21.0       4342.0           783.0   \n",
       "860     37.58    -121.96                15.0       3575.0           597.0   \n",
       "861     37.58    -121.98                20.0       4126.0          1031.0   \n",
       "\n",
       "     population  households  median_income  median_house_value  \n",
       "701       485.0       171.0         6.0574            431000.0  \n",
       "830      2341.0       703.0         4.6458            217000.0  \n",
       "859      2172.0       789.0         4.6146            247600.0  \n",
       "860      1777.0       559.0         5.7192            283500.0  \n",
       "861      2079.0       975.0         3.6832            216900.0  "
      ]
     },
     "execution_count": 4,
     "metadata": {},
     "output_type": "execute_result"
    }
   ],
   "source": [
    "df.head()"
   ]
  },
  {
   "cell_type": "code",
   "execution_count": 23,
   "id": "29e7ec1b",
   "metadata": {},
   "outputs": [],
   "source": [
    "df.columns = df.columns.str.lower().str.replace(' ','_')"
   ]
  },
  {
   "cell_type": "code",
   "execution_count": 24,
   "id": "cb9188a7",
   "metadata": {},
   "outputs": [
    {
     "data": {
      "text/html": [
       "<div>\n",
       "<style scoped>\n",
       "    .dataframe tbody tr th:only-of-type {\n",
       "        vertical-align: middle;\n",
       "    }\n",
       "\n",
       "    .dataframe tbody tr th {\n",
       "        vertical-align: top;\n",
       "    }\n",
       "\n",
       "    .dataframe thead th {\n",
       "        text-align: right;\n",
       "    }\n",
       "</style>\n",
       "<table border=\"1\" class=\"dataframe\">\n",
       "  <thead>\n",
       "    <tr style=\"text-align: right;\">\n",
       "      <th></th>\n",
       "      <th>longitude</th>\n",
       "      <th>latitude</th>\n",
       "      <th>housing_median_age</th>\n",
       "      <th>total_rooms</th>\n",
       "      <th>total_bedrooms</th>\n",
       "      <th>population</th>\n",
       "      <th>households</th>\n",
       "      <th>median_income</th>\n",
       "      <th>median_house_value</th>\n",
       "      <th>ocean_proximity</th>\n",
       "    </tr>\n",
       "  </thead>\n",
       "  <tbody>\n",
       "    <tr>\n",
       "      <th>0</th>\n",
       "      <td>-122.23</td>\n",
       "      <td>37.88</td>\n",
       "      <td>41.0</td>\n",
       "      <td>880.0</td>\n",
       "      <td>129.0</td>\n",
       "      <td>322.0</td>\n",
       "      <td>126.0</td>\n",
       "      <td>8.3252</td>\n",
       "      <td>452600.0</td>\n",
       "      <td>NEAR BAY</td>\n",
       "    </tr>\n",
       "    <tr>\n",
       "      <th>1</th>\n",
       "      <td>-122.22</td>\n",
       "      <td>37.86</td>\n",
       "      <td>21.0</td>\n",
       "      <td>7099.0</td>\n",
       "      <td>1106.0</td>\n",
       "      <td>2401.0</td>\n",
       "      <td>1138.0</td>\n",
       "      <td>8.3014</td>\n",
       "      <td>358500.0</td>\n",
       "      <td>NEAR BAY</td>\n",
       "    </tr>\n",
       "    <tr>\n",
       "      <th>2</th>\n",
       "      <td>-122.24</td>\n",
       "      <td>37.85</td>\n",
       "      <td>52.0</td>\n",
       "      <td>1467.0</td>\n",
       "      <td>190.0</td>\n",
       "      <td>496.0</td>\n",
       "      <td>177.0</td>\n",
       "      <td>7.2574</td>\n",
       "      <td>352100.0</td>\n",
       "      <td>NEAR BAY</td>\n",
       "    </tr>\n",
       "    <tr>\n",
       "      <th>3</th>\n",
       "      <td>-122.25</td>\n",
       "      <td>37.85</td>\n",
       "      <td>52.0</td>\n",
       "      <td>1274.0</td>\n",
       "      <td>235.0</td>\n",
       "      <td>558.0</td>\n",
       "      <td>219.0</td>\n",
       "      <td>5.6431</td>\n",
       "      <td>341300.0</td>\n",
       "      <td>NEAR BAY</td>\n",
       "    </tr>\n",
       "    <tr>\n",
       "      <th>4</th>\n",
       "      <td>-122.25</td>\n",
       "      <td>37.85</td>\n",
       "      <td>52.0</td>\n",
       "      <td>1627.0</td>\n",
       "      <td>280.0</td>\n",
       "      <td>565.0</td>\n",
       "      <td>259.0</td>\n",
       "      <td>3.8462</td>\n",
       "      <td>342200.0</td>\n",
       "      <td>NEAR BAY</td>\n",
       "    </tr>\n",
       "  </tbody>\n",
       "</table>\n",
       "</div>"
      ],
      "text/plain": [
       "   longitude  latitude  housing_median_age  total_rooms  total_bedrooms  \\\n",
       "0    -122.23     37.88                41.0        880.0           129.0   \n",
       "1    -122.22     37.86                21.0       7099.0          1106.0   \n",
       "2    -122.24     37.85                52.0       1467.0           190.0   \n",
       "3    -122.25     37.85                52.0       1274.0           235.0   \n",
       "4    -122.25     37.85                52.0       1627.0           280.0   \n",
       "\n",
       "   population  households  median_income  median_house_value ocean_proximity  \n",
       "0       322.0       126.0         8.3252            452600.0        NEAR BAY  \n",
       "1      2401.0      1138.0         8.3014            358500.0        NEAR BAY  \n",
       "2       496.0       177.0         7.2574            352100.0        NEAR BAY  \n",
       "3       558.0       219.0         5.6431            341300.0        NEAR BAY  \n",
       "4       565.0       259.0         3.8462            342200.0        NEAR BAY  "
      ]
     },
     "execution_count": 24,
     "metadata": {},
     "output_type": "execute_result"
    }
   ],
   "source": [
    "df.head()"
   ]
  },
  {
   "cell_type": "code",
   "execution_count": 25,
   "id": "8512467d",
   "metadata": {},
   "outputs": [
    {
     "data": {
      "text/plain": [
       "longitude             float64\n",
       "latitude              float64\n",
       "housing_median_age    float64\n",
       "total_rooms           float64\n",
       "total_bedrooms        float64\n",
       "population            float64\n",
       "households            float64\n",
       "median_income         float64\n",
       "median_house_value    float64\n",
       "ocean_proximity        object\n",
       "dtype: object"
      ]
     },
     "execution_count": 25,
     "metadata": {},
     "output_type": "execute_result"
    }
   ],
   "source": [
    " df.dtypes"
   ]
  },
  {
   "cell_type": "code",
   "execution_count": 27,
   "id": "0d9c2c00",
   "metadata": {},
   "outputs": [
    {
     "data": {
      "text/plain": [
       "['ocean_proximity']"
      ]
     },
     "execution_count": 27,
     "metadata": {},
     "output_type": "execute_result"
    }
   ],
   "source": [
    "strings = list(df.dtypes[df.dtypes == 'object'].index)\n",
    "strings"
   ]
  },
  {
   "cell_type": "code",
   "execution_count": 28,
   "id": "e0c7b61c",
   "metadata": {},
   "outputs": [],
   "source": [
    "for col in strings:\n",
    "    df[col] = df[col].str.lower().str.replace(' ', '_')"
   ]
  },
  {
   "cell_type": "code",
   "execution_count": 29,
   "id": "b2c194a4",
   "metadata": {},
   "outputs": [
    {
     "data": {
      "text/html": [
       "<div>\n",
       "<style scoped>\n",
       "    .dataframe tbody tr th:only-of-type {\n",
       "        vertical-align: middle;\n",
       "    }\n",
       "\n",
       "    .dataframe tbody tr th {\n",
       "        vertical-align: top;\n",
       "    }\n",
       "\n",
       "    .dataframe thead th {\n",
       "        text-align: right;\n",
       "    }\n",
       "</style>\n",
       "<table border=\"1\" class=\"dataframe\">\n",
       "  <thead>\n",
       "    <tr style=\"text-align: right;\">\n",
       "      <th></th>\n",
       "      <th>longitude</th>\n",
       "      <th>latitude</th>\n",
       "      <th>housing_median_age</th>\n",
       "      <th>total_rooms</th>\n",
       "      <th>total_bedrooms</th>\n",
       "      <th>population</th>\n",
       "      <th>households</th>\n",
       "      <th>median_income</th>\n",
       "      <th>median_house_value</th>\n",
       "      <th>ocean_proximity</th>\n",
       "    </tr>\n",
       "  </thead>\n",
       "  <tbody>\n",
       "    <tr>\n",
       "      <th>0</th>\n",
       "      <td>-122.23</td>\n",
       "      <td>37.88</td>\n",
       "      <td>41.0</td>\n",
       "      <td>880.0</td>\n",
       "      <td>129.0</td>\n",
       "      <td>322.0</td>\n",
       "      <td>126.0</td>\n",
       "      <td>8.3252</td>\n",
       "      <td>452600.0</td>\n",
       "      <td>near_bay</td>\n",
       "    </tr>\n",
       "    <tr>\n",
       "      <th>1</th>\n",
       "      <td>-122.22</td>\n",
       "      <td>37.86</td>\n",
       "      <td>21.0</td>\n",
       "      <td>7099.0</td>\n",
       "      <td>1106.0</td>\n",
       "      <td>2401.0</td>\n",
       "      <td>1138.0</td>\n",
       "      <td>8.3014</td>\n",
       "      <td>358500.0</td>\n",
       "      <td>near_bay</td>\n",
       "    </tr>\n",
       "    <tr>\n",
       "      <th>2</th>\n",
       "      <td>-122.24</td>\n",
       "      <td>37.85</td>\n",
       "      <td>52.0</td>\n",
       "      <td>1467.0</td>\n",
       "      <td>190.0</td>\n",
       "      <td>496.0</td>\n",
       "      <td>177.0</td>\n",
       "      <td>7.2574</td>\n",
       "      <td>352100.0</td>\n",
       "      <td>near_bay</td>\n",
       "    </tr>\n",
       "    <tr>\n",
       "      <th>3</th>\n",
       "      <td>-122.25</td>\n",
       "      <td>37.85</td>\n",
       "      <td>52.0</td>\n",
       "      <td>1274.0</td>\n",
       "      <td>235.0</td>\n",
       "      <td>558.0</td>\n",
       "      <td>219.0</td>\n",
       "      <td>5.6431</td>\n",
       "      <td>341300.0</td>\n",
       "      <td>near_bay</td>\n",
       "    </tr>\n",
       "    <tr>\n",
       "      <th>4</th>\n",
       "      <td>-122.25</td>\n",
       "      <td>37.85</td>\n",
       "      <td>52.0</td>\n",
       "      <td>1627.0</td>\n",
       "      <td>280.0</td>\n",
       "      <td>565.0</td>\n",
       "      <td>259.0</td>\n",
       "      <td>3.8462</td>\n",
       "      <td>342200.0</td>\n",
       "      <td>near_bay</td>\n",
       "    </tr>\n",
       "  </tbody>\n",
       "</table>\n",
       "</div>"
      ],
      "text/plain": [
       "   longitude  latitude  housing_median_age  total_rooms  total_bedrooms  \\\n",
       "0    -122.23     37.88                41.0        880.0           129.0   \n",
       "1    -122.22     37.86                21.0       7099.0          1106.0   \n",
       "2    -122.24     37.85                52.0       1467.0           190.0   \n",
       "3    -122.25     37.85                52.0       1274.0           235.0   \n",
       "4    -122.25     37.85                52.0       1627.0           280.0   \n",
       "\n",
       "   population  households  median_income  median_house_value ocean_proximity  \n",
       "0       322.0       126.0         8.3252            452600.0        near_bay  \n",
       "1      2401.0      1138.0         8.3014            358500.0        near_bay  \n",
       "2       496.0       177.0         7.2574            352100.0        near_bay  \n",
       "3       558.0       219.0         5.6431            341300.0        near_bay  \n",
       "4       565.0       259.0         3.8462            342200.0        near_bay  "
      ]
     },
     "execution_count": 29,
     "metadata": {},
     "output_type": "execute_result"
    }
   ],
   "source": [
    "df.head()"
   ]
  },
  {
   "cell_type": "markdown",
   "id": "d969a766",
   "metadata": {},
   "source": [
    "## EDA"
   ]
  },
  {
   "cell_type": "code",
   "execution_count": 5,
   "id": "252d9b00",
   "metadata": {},
   "outputs": [
    {
     "name": "stdout",
     "output_type": "stream",
     "text": [
      "latitude\n",
      "[37.64 37.61 37.57 37.58 37.49]\n",
      "834\n",
      "\n",
      "longitude\n",
      "[-121.97 -121.99 -121.96 -121.98 -122.  ]\n",
      "818\n",
      "\n",
      "housing_median_age\n",
      "[32.  9. 21. 15. 20.]\n",
      "52\n",
      "\n",
      "total_rooms\n",
      "[1283. 3666. 4342. 3575. 4126.]\n",
      "5428\n",
      "\n",
      "total_bedrooms\n",
      "[ 194.  711.  783.  597. 1031.]\n",
      "1822\n",
      "\n",
      "population\n",
      "[ 485. 2341. 2172. 1777. 2079.]\n",
      "3683\n",
      "\n",
      "households\n",
      "[171. 703. 789. 559. 975.]\n",
      "1707\n",
      "\n",
      "median_income\n",
      "[6.0574 4.6458 4.6146 5.7192 3.6832]\n",
      "10434\n",
      "\n",
      "median_house_value\n",
      "[431000. 217000. 247600. 283500. 216900.]\n",
      "3493\n",
      "\n"
     ]
    }
   ],
   "source": [
    "for col in df.columns:\n",
    "    print(col)\n",
    "    print(df[col].unique()[:5])\n",
    "    print(df[col].nunique())\n",
    "    print()"
   ]
  },
  {
   "cell_type": "code",
   "execution_count": 6,
   "id": "1b454ed0",
   "metadata": {},
   "outputs": [
    {
     "data": {
      "text/plain": [
       "latitude                0\n",
       "longitude               0\n",
       "housing_median_age      0\n",
       "total_rooms             0\n",
       "total_bedrooms        157\n",
       "population              0\n",
       "households              0\n",
       "median_income           0\n",
       "median_house_value      0\n",
       "dtype: int64"
      ]
     },
     "execution_count": 6,
     "metadata": {},
     "output_type": "execute_result"
    }
   ],
   "source": [
    "df.isnull().sum()\n",
    "# df['population'].describe()"
   ]
  },
  {
   "cell_type": "markdown",
   "id": "2ae0a992",
   "metadata": {},
   "source": [
    "## Data distribution"
   ]
  },
  {
   "cell_type": "code",
   "execution_count": 12,
   "id": "63db30c8",
   "metadata": {},
   "outputs": [],
   "source": [
    "import matplotlib.pyplot as plt\n",
    "import seaborn as sns\n",
    "import numpy as np\n",
    "\n",
    "%matplotlib inline"
   ]
  },
  {
   "cell_type": "code",
   "execution_count": 14,
   "id": "289f5189",
   "metadata": {},
   "outputs": [
    {
     "data": {
      "text/plain": [
       "<Axes: xlabel='median_house_value', ylabel='Count'>"
      ]
     },
     "execution_count": 14,
     "metadata": {},
     "output_type": "execute_result"
    },
    {
     "data": {
      "image/png": "[encoded data removed]",
      "text/plain": [
       "<Figure size 640x480 with 1 Axes>"
      ]
     },
     "metadata": {},
     "output_type": "display_data"
    }
   ],
   "source": [
    "sns.histplot(df['median_house_value'])"
   ]
  },
  {
   "cell_type": "code",
   "execution_count": 15,
   "id": "9e279d30",
   "metadata": {},
   "outputs": [
    {
     "data": {
      "text/plain": [
       "<Axes: xlabel='median_house_value', ylabel='Count'>"
      ]
     },
     "execution_count": 15,
     "metadata": {},
     "output_type": "execute_result"
    },
    {
     "data": {
      "image/png": "[encoded data removed]",
      "text/plain": [
       "<Figure size 640x480 with 1 Axes>"
      ]
     },
     "metadata": {},
     "output_type": "display_data"
    }
   ],
   "source": [
    "house_prices_log = np.log1p(df['median_house_value'])\n",
    "sns.histplot(house_prices_log, bins = 50)"
   ]
  },
  {
   "cell_type": "markdown",
   "id": "498a7674",
   "metadata": {},
   "source": [
    "## Setup the validation framework"
   ]
  },
  {
   "cell_type": "code",
   "execution_count": 42,
   "id": "c60e976b",
   "metadata": {},
   "outputs": [],
   "source": [
    "def split_dataset(data, train_percent, test_percent, val_percent): \n",
    "    n = len(data)\n",
    "\n",
    "    n_val = int( n*val_percent)\n",
    "    n_test = int(n*test_percent)\n",
    "    n_train = n - (n_val + n_test)\n",
    "    ## Create index of n range \n",
    "    idx = np.arange(n)\n",
    "    np.random.seed(9)\n",
    "    np.random.shuffle(idx)\n",
    "    ## Split the data\n",
    "    df_train = data.iloc[idx[:n_train]]\n",
    "    df_test = data.iloc[idx[n_train:n_train+n_test]]\n",
    "    df_val = data.iloc[idx[n_train+n_test]:]\n",
    "    ## Resort the indexes\n",
    "    df_train = df_train.reset_index(drop = True)\n",
    "    df_test = df_test.reset_index(drop = True)\n",
    "    df_val = df_val.reset_index(drop = True)\n",
    "    \n",
    "    return df_train, df_test, df_val"
   ]
  },
  {
   "cell_type": "markdown",
   "id": "f0155d29",
   "metadata": {},
   "source": [
    "### Split the data"
   ]
  },
  {
   "cell_type": "code",
   "execution_count": 43,
   "id": "c3c63cd6",
   "metadata": {},
   "outputs": [],
   "source": [
    "df_train, df_test, df_val = split_dataset(df, 0.6, 0.2, 0.2)"
   ]
  },
  {
   "cell_type": "code",
   "execution_count": 40,
   "id": "df4ab017",
   "metadata": {},
   "outputs": [
    {
     "data": {
      "text/html": [
       "<div>\n",
       "<style scoped>\n",
       "    .dataframe tbody tr th:only-of-type {\n",
       "        vertical-align: middle;\n",
       "    }\n",
       "\n",
       "    .dataframe tbody tr th {\n",
       "        vertical-align: top;\n",
       "    }\n",
       "\n",
       "    .dataframe thead th {\n",
       "        text-align: right;\n",
       "    }\n",
       "</style>\n",
       "<table border=\"1\" class=\"dataframe\">\n",
       "  <thead>\n",
       "    <tr style=\"text-align: right;\">\n",
       "      <th></th>\n",
       "      <th>latitude</th>\n",
       "      <th>longitude</th>\n",
       "      <th>housing_median_age</th>\n",
       "      <th>total_rooms</th>\n",
       "      <th>total_bedrooms</th>\n",
       "      <th>population</th>\n",
       "      <th>households</th>\n",
       "      <th>median_income</th>\n",
       "      <th>median_house_value</th>\n",
       "    </tr>\n",
       "  </thead>\n",
       "  <tbody>\n",
       "    <tr>\n",
       "      <th>0</th>\n",
       "      <td>36.85</td>\n",
       "      <td>-121.65</td>\n",
       "      <td>20.0</td>\n",
       "      <td>2606.0</td>\n",
       "      <td>424.0</td>\n",
       "      <td>1361.0</td>\n",
       "      <td>426.0</td>\n",
       "      <td>4.5787</td>\n",
       "      <td>245100.0</td>\n",
       "    </tr>\n",
       "    <tr>\n",
       "      <th>1</th>\n",
       "      <td>33.90</td>\n",
       "      <td>-118.34</td>\n",
       "      <td>36.0</td>\n",
       "      <td>1158.0</td>\n",
       "      <td>219.0</td>\n",
       "      <td>628.0</td>\n",
       "      <td>253.0</td>\n",
       "      <td>4.7426</td>\n",
       "      <td>242700.0</td>\n",
       "    </tr>\n",
       "    <tr>\n",
       "      <th>2</th>\n",
       "      <td>33.28</td>\n",
       "      <td>-117.28</td>\n",
       "      <td>13.0</td>\n",
       "      <td>6131.0</td>\n",
       "      <td>1040.0</td>\n",
       "      <td>4049.0</td>\n",
       "      <td>940.0</td>\n",
       "      <td>3.8156</td>\n",
       "      <td>150700.0</td>\n",
       "    </tr>\n",
       "    <tr>\n",
       "      <th>3</th>\n",
       "      <td>34.02</td>\n",
       "      <td>-118.48</td>\n",
       "      <td>22.0</td>\n",
       "      <td>1249.0</td>\n",
       "      <td>483.0</td>\n",
       "      <td>1106.0</td>\n",
       "      <td>481.0</td>\n",
       "      <td>2.5261</td>\n",
       "      <td>375000.0</td>\n",
       "    </tr>\n",
       "    <tr>\n",
       "      <th>4</th>\n",
       "      <td>37.68</td>\n",
       "      <td>-121.77</td>\n",
       "      <td>36.0</td>\n",
       "      <td>1687.0</td>\n",
       "      <td>372.0</td>\n",
       "      <td>950.0</td>\n",
       "      <td>372.0</td>\n",
       "      <td>3.5532</td>\n",
       "      <td>158400.0</td>\n",
       "    </tr>\n",
       "    <tr>\n",
       "      <th>...</th>\n",
       "      <td>...</td>\n",
       "      <td>...</td>\n",
       "      <td>...</td>\n",
       "      <td>...</td>\n",
       "      <td>...</td>\n",
       "      <td>...</td>\n",
       "      <td>...</td>\n",
       "      <td>...</td>\n",
       "      <td>...</td>\n",
       "    </tr>\n",
       "    <tr>\n",
       "      <th>9408</th>\n",
       "      <td>34.18</td>\n",
       "      <td>-118.92</td>\n",
       "      <td>17.0</td>\n",
       "      <td>2400.0</td>\n",
       "      <td>352.0</td>\n",
       "      <td>1067.0</td>\n",
       "      <td>323.0</td>\n",
       "      <td>6.3522</td>\n",
       "      <td>259300.0</td>\n",
       "    </tr>\n",
       "    <tr>\n",
       "      <th>9409</th>\n",
       "      <td>34.04</td>\n",
       "      <td>-117.24</td>\n",
       "      <td>5.0</td>\n",
       "      <td>1775.0</td>\n",
       "      <td>234.0</td>\n",
       "      <td>726.0</td>\n",
       "      <td>222.0</td>\n",
       "      <td>7.9780</td>\n",
       "      <td>223900.0</td>\n",
       "    </tr>\n",
       "    <tr>\n",
       "      <th>9410</th>\n",
       "      <td>38.40</td>\n",
       "      <td>-122.89</td>\n",
       "      <td>22.0</td>\n",
       "      <td>2900.0</td>\n",
       "      <td>538.0</td>\n",
       "      <td>1445.0</td>\n",
       "      <td>515.0</td>\n",
       "      <td>4.5110</td>\n",
       "      <td>296800.0</td>\n",
       "    </tr>\n",
       "    <tr>\n",
       "      <th>9411</th>\n",
       "      <td>37.81</td>\n",
       "      <td>-121.22</td>\n",
       "      <td>17.0</td>\n",
       "      <td>2879.0</td>\n",
       "      <td>542.0</td>\n",
       "      <td>1802.0</td>\n",
       "      <td>530.0</td>\n",
       "      <td>3.6378</td>\n",
       "      <td>126100.0</td>\n",
       "    </tr>\n",
       "    <tr>\n",
       "      <th>9412</th>\n",
       "      <td>38.51</td>\n",
       "      <td>-121.06</td>\n",
       "      <td>6.0</td>\n",
       "      <td>6873.0</td>\n",
       "      <td>959.0</td>\n",
       "      <td>2354.0</td>\n",
       "      <td>931.0</td>\n",
       "      <td>6.8869</td>\n",
       "      <td>263100.0</td>\n",
       "    </tr>\n",
       "  </tbody>\n",
       "</table>\n",
       "<p>9413 rows × 9 columns</p>\n",
       "</div>"
      ],
      "text/plain": [
       "      latitude  longitude  housing_median_age  total_rooms  total_bedrooms  \\\n",
       "0        36.85    -121.65                20.0       2606.0           424.0   \n",
       "1        33.90    -118.34                36.0       1158.0           219.0   \n",
       "2        33.28    -117.28                13.0       6131.0          1040.0   \n",
       "3        34.02    -118.48                22.0       1249.0           483.0   \n",
       "4        37.68    -121.77                36.0       1687.0           372.0   \n",
       "...        ...        ...                 ...          ...             ...   \n",
       "9408     34.18    -118.92                17.0       2400.0           352.0   \n",
       "9409     34.04    -117.24                 5.0       1775.0           234.0   \n",
       "9410     38.40    -122.89                22.0       2900.0           538.0   \n",
       "9411     37.81    -121.22                17.0       2879.0           542.0   \n",
       "9412     38.51    -121.06                 6.0       6873.0           959.0   \n",
       "\n",
       "      population  households  median_income  median_house_value  \n",
       "0         1361.0       426.0         4.5787            245100.0  \n",
       "1          628.0       253.0         4.7426            242700.0  \n",
       "2         4049.0       940.0         3.8156            150700.0  \n",
       "3         1106.0       481.0         2.5261            375000.0  \n",
       "4          950.0       372.0         3.5532            158400.0  \n",
       "...          ...         ...            ...                 ...  \n",
       "9408      1067.0       323.0         6.3522            259300.0  \n",
       "9409       726.0       222.0         7.9780            223900.0  \n",
       "9410      1445.0       515.0         4.5110            296800.0  \n",
       "9411      1802.0       530.0         3.6378            126100.0  \n",
       "9412      2354.0       931.0         6.8869            263100.0  \n",
       "\n",
       "[9413 rows x 9 columns]"
      ]
     },
     "execution_count": 40,
     "metadata": {},
     "output_type": "execute_result"
    }
   ],
   "source": [
    "\n",
    "df_train"
   ]
  },
  {
   "cell_type": "markdown",
   "id": "430fca2a",
   "metadata": {},
   "source": [
    "## Fill missing Data"
   ]
  },
  {
   "cell_type": "code",
   "execution_count": 27,
   "id": "269b5a36",
   "metadata": {},
   "outputs": [
    {
     "data": {
      "text/plain": [
       "count    9413.000000\n",
       "mean      533.522363\n",
       "std       433.697213\n",
       "min         0.000000\n",
       "25%       289.000000\n",
       "50%       429.000000\n",
       "75%       641.000000\n",
       "max      6445.000000\n",
       "Name: total_bedrooms, dtype: float64"
      ]
     },
     "execution_count": 27,
     "metadata": {},
     "output_type": "execute_result"
    }
   ],
   "source": [
    "# df_train = df_train.fillna(0)\n",
    "# df_test = df_test.fillna(0)\n",
    "# df_val = df_val.fillna(0)\n",
    "\n",
    "df_train['total_bedrooms'] = df_train['total_bedrooms'].fillna(df_train['total_bedrooms'].mean())\n",
    "df_test['total_bedrooms'] = df_test['total_bedrooms'].fillna(df_test['total_bedrooms'].mean())\n",
    "df_val['total_bedrooms'] = df_val['total_bedrooms'].fillna(df_val['total_bedrooms'].mean())\n",
    "\n",
    "df_train['total_bedrooms'].describe()"
   ]
  },
  {
   "cell_type": "code",
   "execution_count": 18,
   "id": "f2da926b",
   "metadata": {},
   "outputs": [],
   "source": [
    "y_train = np.log1p(df_train['median_house_value'].values)\n",
    "y_test = np.log1p(df_test['median_house_value'].values)\n",
    "y_val = np.log1p(df_val['median_house_value'].values)"
   ]
  },
  {
   "cell_type": "code",
   "execution_count": 19,
   "id": "ee6ac24a",
   "metadata": {},
   "outputs": [],
   "source": [
    "del df_train['median_house_value']\n",
    "del df_test['median_house_value']\n",
    "del df_val['median_house_value']"
   ]
  },
  {
   "cell_type": "markdown",
   "id": "dcdbdce2",
   "metadata": {},
   "source": [
    "## Logistic regression vectorized"
   ]
  },
  {
   "cell_type": "code",
   "execution_count": 44,
   "id": "d1ab1908",
   "metadata": {},
   "outputs": [],
   "source": [
    "def dot (x, w):\n",
    "    n = len(x)\n",
    "    result = 0\n",
    "    for j in range(n):\n",
    "        result += x[j] * w[j]\n",
    "    \n",
    "    return result"
   ]
  },
  {
   "cell_type": "code",
   "execution_count": 45,
   "id": "a3a37a09",
   "metadata": {},
   "outputs": [],
   "source": [
    "def logistic_regression(xi):\n",
    "    return b + dot(xi, w)"
   ]
  },
  {
   "cell_type": "code",
   "execution_count": 46,
   "id": "6407d1e8",
   "metadata": {},
   "outputs": [],
   "source": [
    "def train_linear_regression(X, y):\n",
    "    ones = np.ones(X.shape[0])\n",
    "    X = np.column_stack([ones, X])\n",
    "    \n",
    "    XTX = X.T.dot(X)\n",
    "    XTX_inv = np.linalg.inv(XTX)\n",
    "    w_vector = XTX_inv.dot(X.T).dot(y)\n",
    "    \n",
    "    return w_vector[0],w_vector[1:]\n",
    "    \n",
    "def train_linear_regression_reg(X, y, r=0.001):\n",
    "    ones = np.ones(X.shape[0])\n",
    "    X = np.column_stack([ones, X])\n",
    "    \n",
    "    XTX = X.T.dot(X)\n",
    "    XTX = XTX + r * np.eye(XTX.shape[0])\n",
    "    XTX_inv = np.linalg.inv(XTX)\n",
    "    w_vector = XTX_inv.dot(X.T).dot(y)\n",
    "    \n",
    "    return w_vector[0],w_vector[1:]\n",
    "    "
   ]
  },
  {
   "cell_type": "code",
   "execution_count": 47,
   "id": "d7ba2bfa",
   "metadata": {},
   "outputs": [],
   "source": [
    "def preprocess_X(df):\n",
    "    df = df.fillna(0)\n",
    "    X = df.values\n",
    "    \n",
    "    return X"
   ]
  },
  {
   "cell_type": "code",
   "execution_count": 30,
   "id": "38a5517e",
   "metadata": {},
   "outputs": [],
   "source": [
    "X_train = df_train.values\n",
    "w0, w = train_linear_regression(X_train, y_train)\n",
    "y_pred = w0 + X_train.dot(w)\n"
   ]
  },
  {
   "cell_type": "code",
   "execution_count": 31,
   "id": "5be4aba9",
   "metadata": {},
   "outputs": [
    {
     "data": {
      "text/plain": [
       "array([12.34789408, 12.3820726 , 11.89701651, ..., 12.28690912,\n",
       "       11.80164626, 12.20547073])"
      ]
     },
     "execution_count": 31,
     "metadata": {},
     "output_type": "execute_result"
    }
   ],
   "source": [
    "y_pred"
   ]
  },
  {
   "cell_type": "markdown",
   "id": "d8acfa4f",
   "metadata": {},
   "source": [
    "## RMSE"
   ]
  },
  {
   "cell_type": "code",
   "execution_count": 49,
   "id": "9a5551c3",
   "metadata": {},
   "outputs": [],
   "source": [
    "def rmse(y_pred, y_actual):\n",
    "    error = y_actual - y_pred\n",
    "    sq_error = error ** 2\n",
    "    mse = sq_error.mean()\n",
    "    \n",
    "    return np.sqrt(mse)\n",
    "    "
   ]
  },
  {
   "cell_type": "code",
   "execution_count": 50,
   "id": "ee0155a3",
   "metadata": {},
   "outputs": [
    {
     "ename": "ValueError",
     "evalue": "operands could not be broadcast together with shapes (9413,) (3137,) ",
     "output_type": "error",
     "traceback": [
      "\u001b[0;31m---------------------------------------------------------------------------\u001b[0m",
      "\u001b[0;31mValueError\u001b[0m                                Traceback (most recent call last)",
      "Cell \u001b[0;32mIn[50], line 1\u001b[0m\n\u001b[0;32m----> 1\u001b[0m \u001b[38;5;28mround\u001b[39m(rmse(y_pred, y_train), \u001b[38;5;241m2\u001b[39m)\n",
      "Cell \u001b[0;32mIn[49], line 2\u001b[0m, in \u001b[0;36mrmse\u001b[0;34m(y_pred, y_actual)\u001b[0m\n\u001b[1;32m      1\u001b[0m \u001b[38;5;28;01mdef\u001b[39;00m \u001b[38;5;21mrmse\u001b[39m(y_pred, y_actual):\n\u001b[0;32m----> 2\u001b[0m     error \u001b[38;5;241m=\u001b[39m y_actual \u001b[38;5;241m-\u001b[39m y_pred\n\u001b[1;32m      3\u001b[0m     sq_error \u001b[38;5;241m=\u001b[39m error \u001b[38;5;241m*\u001b[39m\u001b[38;5;241m*\u001b[39m \u001b[38;5;241m2\u001b[39m\n\u001b[1;32m      4\u001b[0m     mse \u001b[38;5;241m=\u001b[39m sq_error\u001b[38;5;241m.\u001b[39mmean()\n",
      "\u001b[0;31mValueError\u001b[0m: operands could not be broadcast together with shapes (9413,) (3137,) "
     ]
    }
   ],
   "source": [
    "round(rmse(y_pred, y_train), 2)"
   ]
  },
  {
   "cell_type": "code",
   "execution_count": 52,
   "id": "e8e70dd6",
   "metadata": {},
   "outputs": [
    {
     "data": {
      "text/plain": [
       "0.567"
      ]
     },
     "execution_count": 52,
     "metadata": {},
     "output_type": "execute_result"
    }
   ],
   "source": [
    "X_train = preprocess_X(df_test)\n",
    "w0, w = train_linear_regression_reg(X_train, y_test)\n",
    "y_pred = w0 + X_train.dot(w)\n",
    "\n",
    "round(rmse(y_pred, y_test), 3)"
   ]
  },
  {
   "cell_type": "code",
   "execution_count": null,
   "id": "ebf2b682",
   "metadata": {},
   "outputs": [],
   "source": []
  }
 ],
 "metadata": {
  "kernelspec": {
   "display_name": "Python 3 (ipykernel)",
   "language": "python",
   "name": "python3"
  },
  "language_info": {
   "codemirror_mode": {
    "name": "ipython",
    "version": 3
   },
   "file_extension": ".py",
   "mimetype": "text/x-python",
   "name": "python",
   "nbconvert_exporter": "python",
   "pygments_lexer": "ipython3",
   "version": "3.11.4"
  }
 },
 "nbformat": 4,
 "nbformat_minor": 5
}
