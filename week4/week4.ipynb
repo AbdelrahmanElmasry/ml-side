{
 "cells": [
  {
   "cell_type": "code",
   "execution_count": 1,
   "id": "53668df2",
   "metadata": {},
   "outputs": [],
   "source": [
    "import numpy as np\n",
    "import pandas as pd\n",
    "\n",
    "import matplotlib.pyplot as plt"
   ]
  },
  {
   "cell_type": "code",
   "execution_count": 2,
   "id": "1a6d73f6",
   "metadata": {},
   "outputs": [],
   "source": [
    "data = 'https://raw.githubusercontent.com/alexeygrigorev/mlbookcamp-code/master/chapter-03-churn-prediction/WA_Fn-UseC_-Telco-Customer-Churn.csv'"
   ]
  },
  {
   "cell_type": "code",
   "execution_count": 3,
   "id": "c6c55612",
   "metadata": {},
   "outputs": [
    {
     "name": "stdout",
     "output_type": "stream",
     "text": [
      "--2023-10-17 17:41:27--  https://raw.githubusercontent.com/alexeygrigorev/mlbookcamp-code/master/chapter-03-churn-prediction/WA_Fn-UseC_-Telco-Customer-Churn.csv\n",
      "Resolving raw.githubusercontent.com (raw.githubusercontent.com)... 185.199.109.133, 185.199.110.133, 185.199.111.133, ...\n",
      "Connecting to raw.githubusercontent.com (raw.githubusercontent.com)|185.199.109.133|:443... connected.\n",
      "HTTP request sent, awaiting response... 200 OK\n",
      "Length: 977501 (955K) [text/plain]\n",
      "Saving to: ‘data.csv’\n",
      "\n",
      "data.csv            100%[===================>] 954.59K  --.-KB/s    in 0.03s   \n",
      "\n",
      "2023-10-17 17:41:28 (33.2 MB/s) - ‘data.csv’ saved [977501/977501]\n",
      "\n"
     ]
    }
   ],
   "source": [
    "!wget $data -O data.csv"
   ]
  },
  {
   "cell_type": "code",
   "execution_count": 2,
   "id": "04671a33",
   "metadata": {},
   "outputs": [],
   "source": [
    "df = pd.read_csv('data.csv')"
   ]
  },
  {
   "cell_type": "code",
   "execution_count": 3,
   "id": "e319eab8",
   "metadata": {},
   "outputs": [
    {
     "data": {
      "text/html": [
       "<div>\n",
       "<style scoped>\n",
       "    .dataframe tbody tr th:only-of-type {\n",
       "        vertical-align: middle;\n",
       "    }\n",
       "\n",
       "    .dataframe tbody tr th {\n",
       "        vertical-align: top;\n",
       "    }\n",
       "\n",
       "    .dataframe thead th {\n",
       "        text-align: right;\n",
       "    }\n",
       "</style>\n",
       "<table border=\"1\" class=\"dataframe\">\n",
       "  <thead>\n",
       "    <tr style=\"text-align: right;\">\n",
       "      <th></th>\n",
       "      <th>customerid</th>\n",
       "      <th>gender</th>\n",
       "      <th>seniorcitizen</th>\n",
       "      <th>partner</th>\n",
       "      <th>dependents</th>\n",
       "      <th>tenure</th>\n",
       "      <th>phoneservice</th>\n",
       "      <th>multiplelines</th>\n",
       "      <th>internetservice</th>\n",
       "      <th>onlinesecurity</th>\n",
       "      <th>...</th>\n",
       "      <th>deviceprotection</th>\n",
       "      <th>techsupport</th>\n",
       "      <th>streamingtv</th>\n",
       "      <th>streamingmovies</th>\n",
       "      <th>contract</th>\n",
       "      <th>paperlessbilling</th>\n",
       "      <th>paymentmethod</th>\n",
       "      <th>monthlycharges</th>\n",
       "      <th>totalcharges</th>\n",
       "      <th>churn</th>\n",
       "    </tr>\n",
       "  </thead>\n",
       "  <tbody>\n",
       "    <tr>\n",
       "      <th>0</th>\n",
       "      <td>7590-vhveg</td>\n",
       "      <td>female</td>\n",
       "      <td>0</td>\n",
       "      <td>yes</td>\n",
       "      <td>no</td>\n",
       "      <td>1</td>\n",
       "      <td>no</td>\n",
       "      <td>no_phone_service</td>\n",
       "      <td>dsl</td>\n",
       "      <td>no</td>\n",
       "      <td>...</td>\n",
       "      <td>no</td>\n",
       "      <td>no</td>\n",
       "      <td>no</td>\n",
       "      <td>no</td>\n",
       "      <td>month-to-month</td>\n",
       "      <td>yes</td>\n",
       "      <td>electronic_check</td>\n",
       "      <td>29.85</td>\n",
       "      <td>29.85</td>\n",
       "      <td>0</td>\n",
       "    </tr>\n",
       "    <tr>\n",
       "      <th>1</th>\n",
       "      <td>5575-gnvde</td>\n",
       "      <td>male</td>\n",
       "      <td>0</td>\n",
       "      <td>no</td>\n",
       "      <td>no</td>\n",
       "      <td>34</td>\n",
       "      <td>yes</td>\n",
       "      <td>no</td>\n",
       "      <td>dsl</td>\n",
       "      <td>yes</td>\n",
       "      <td>...</td>\n",
       "      <td>yes</td>\n",
       "      <td>no</td>\n",
       "      <td>no</td>\n",
       "      <td>no</td>\n",
       "      <td>one_year</td>\n",
       "      <td>no</td>\n",
       "      <td>mailed_check</td>\n",
       "      <td>56.95</td>\n",
       "      <td>1889.50</td>\n",
       "      <td>0</td>\n",
       "    </tr>\n",
       "    <tr>\n",
       "      <th>2</th>\n",
       "      <td>3668-qpybk</td>\n",
       "      <td>male</td>\n",
       "      <td>0</td>\n",
       "      <td>no</td>\n",
       "      <td>no</td>\n",
       "      <td>2</td>\n",
       "      <td>yes</td>\n",
       "      <td>no</td>\n",
       "      <td>dsl</td>\n",
       "      <td>yes</td>\n",
       "      <td>...</td>\n",
       "      <td>no</td>\n",
       "      <td>no</td>\n",
       "      <td>no</td>\n",
       "      <td>no</td>\n",
       "      <td>month-to-month</td>\n",
       "      <td>yes</td>\n",
       "      <td>mailed_check</td>\n",
       "      <td>53.85</td>\n",
       "      <td>108.15</td>\n",
       "      <td>1</td>\n",
       "    </tr>\n",
       "    <tr>\n",
       "      <th>3</th>\n",
       "      <td>7795-cfocw</td>\n",
       "      <td>male</td>\n",
       "      <td>0</td>\n",
       "      <td>no</td>\n",
       "      <td>no</td>\n",
       "      <td>45</td>\n",
       "      <td>no</td>\n",
       "      <td>no_phone_service</td>\n",
       "      <td>dsl</td>\n",
       "      <td>yes</td>\n",
       "      <td>...</td>\n",
       "      <td>yes</td>\n",
       "      <td>yes</td>\n",
       "      <td>no</td>\n",
       "      <td>no</td>\n",
       "      <td>one_year</td>\n",
       "      <td>no</td>\n",
       "      <td>bank_transfer_(automatic)</td>\n",
       "      <td>42.30</td>\n",
       "      <td>1840.75</td>\n",
       "      <td>0</td>\n",
       "    </tr>\n",
       "    <tr>\n",
       "      <th>4</th>\n",
       "      <td>9237-hqitu</td>\n",
       "      <td>female</td>\n",
       "      <td>0</td>\n",
       "      <td>no</td>\n",
       "      <td>no</td>\n",
       "      <td>2</td>\n",
       "      <td>yes</td>\n",
       "      <td>no</td>\n",
       "      <td>fiber_optic</td>\n",
       "      <td>no</td>\n",
       "      <td>...</td>\n",
       "      <td>no</td>\n",
       "      <td>no</td>\n",
       "      <td>no</td>\n",
       "      <td>no</td>\n",
       "      <td>month-to-month</td>\n",
       "      <td>yes</td>\n",
       "      <td>electronic_check</td>\n",
       "      <td>70.70</td>\n",
       "      <td>151.65</td>\n",
       "      <td>1</td>\n",
       "    </tr>\n",
       "  </tbody>\n",
       "</table>\n",
       "<p>5 rows × 21 columns</p>\n",
       "</div>"
      ],
      "text/plain": [
       "   customerid  gender  seniorcitizen partner dependents  tenure phoneservice  \\\n",
       "0  7590-vhveg  female              0     yes         no       1           no   \n",
       "1  5575-gnvde    male              0      no         no      34          yes   \n",
       "2  3668-qpybk    male              0      no         no       2          yes   \n",
       "3  7795-cfocw    male              0      no         no      45           no   \n",
       "4  9237-hqitu  female              0      no         no       2          yes   \n",
       "\n",
       "      multiplelines internetservice onlinesecurity  ... deviceprotection  \\\n",
       "0  no_phone_service             dsl             no  ...               no   \n",
       "1                no             dsl            yes  ...              yes   \n",
       "2                no             dsl            yes  ...               no   \n",
       "3  no_phone_service             dsl            yes  ...              yes   \n",
       "4                no     fiber_optic             no  ...               no   \n",
       "\n",
       "  techsupport streamingtv streamingmovies        contract paperlessbilling  \\\n",
       "0          no          no              no  month-to-month              yes   \n",
       "1          no          no              no        one_year               no   \n",
       "2          no          no              no  month-to-month              yes   \n",
       "3         yes          no              no        one_year               no   \n",
       "4          no          no              no  month-to-month              yes   \n",
       "\n",
       "               paymentmethod monthlycharges  totalcharges  churn  \n",
       "0           electronic_check          29.85         29.85      0  \n",
       "1               mailed_check          56.95       1889.50      0  \n",
       "2               mailed_check          53.85        108.15      1  \n",
       "3  bank_transfer_(automatic)          42.30       1840.75      0  \n",
       "4           electronic_check          70.70        151.65      1  \n",
       "\n",
       "[5 rows x 21 columns]"
      ]
     },
     "execution_count": 3,
     "metadata": {},
     "output_type": "execute_result"
    }
   ],
   "source": [
    "df.columns = df.columns.str.lower().str.replace(' ','_')\n",
    "\n",
    "categorial_cols = list(df.dtypes[df.dtypes == 'object'].index)\n",
    "\n",
    "for col in categorial_cols:\n",
    "    df[col] = df[col].str.lower().str.replace(' ', '_')\n",
    "# Convert total_charges to numerical values, ignore errors as NA\n",
    "total_charges = pd.to_numeric(df.totalcharges, errors='coerce')\n",
    "df.totalcharges = total_charges\n",
    "df.totalcharges = df.totalcharges.fillna(0)\n",
    "df.head().T\n",
    "# Filter dataframe by specific column, pick specific columns\n",
    "df[df['totalcharges'].isnull()][['customerid', 'totalcharges']]\n",
    "df.churn = (df.churn == 'yes').astype('int')\n",
    "df.head()"
   ]
  },
  {
   "cell_type": "code",
   "execution_count": 4,
   "id": "c1e92794",
   "metadata": {},
   "outputs": [],
   "source": [
    "from sklearn.model_selection import train_test_split"
   ]
  },
  {
   "cell_type": "code",
   "execution_count": 5,
   "id": "b59028a2",
   "metadata": {},
   "outputs": [],
   "source": [
    "df_full_train, df_test = train_test_split(df, test_size=0.2, random_state=1)\n",
    "df_train, df_val = train_test_split(df_full_train, test_size=0.25, random_state=1)\n",
    "\n",
    "df_train = df_train.reset_index(drop=True)\n",
    "df_val = df_val.reset_index(drop=True)\n",
    "df_test = df_test.reset_index(drop=True)\n",
    "\n",
    "\n",
    "y_train = df_train.churn.values\n",
    "y_val = df_val.churn.values\n",
    "y_test = df_test.churn.values\n",
    "\n",
    "\n",
    "del df_train['churn']\n",
    "del df_val['churn']\n",
    "del df_test['churn']"
   ]
  },
  {
   "cell_type": "code",
   "execution_count": 6,
   "id": "614e24cd",
   "metadata": {},
   "outputs": [],
   "source": [
    "numerical = ['tenure', 'monthlycharges', 'totalcharges']"
   ]
  },
  {
   "cell_type": "code",
   "execution_count": 7,
   "id": "7b79287e",
   "metadata": {},
   "outputs": [],
   "source": [
    "categorial = ['gender', 'seniorcitizen', 'partner', 'dependents',\n",
    "     'phoneservice', 'multiplelines', 'internetservice',\n",
    "       'onlinesecurity', 'onlinebackup', 'deviceprotection', 'techsupport',\n",
    "       'streamingtv', 'streamingmovies', 'contract', 'paperlessbilling',\n",
    "       'paymentmethod']"
   ]
  },
  {
   "cell_type": "code",
   "execution_count": 8,
   "id": "dd616e2e",
   "metadata": {},
   "outputs": [],
   "source": [
    "from sklearn.feature_extraction import DictVectorizer"
   ]
  },
  {
   "cell_type": "code",
   "execution_count": 9,
   "id": "5e175d0e",
   "metadata": {},
   "outputs": [],
   "source": [
    "train_dicts = df_train[categorial + numerical].to_dict(orient='records')\n",
    "dv = DictVectorizer(sparse=False)\n",
    "X_train = dv.fit_transform(train_dicts)\n",
    "\n",
    "val_dicts = df_val[categorial + numerical].to_dict(orient='records')\n",
    "# only apply transform, already fit on training data\n",
    "X_val = dv.transform(val_dicts)"
   ]
  },
  {
   "cell_type": "code",
   "execution_count": 10,
   "id": "a0b7920f",
   "metadata": {},
   "outputs": [],
   "source": [
    "from sklearn.linear_model import LogisticRegression"
   ]
  },
  {
   "cell_type": "code",
   "execution_count": 11,
   "id": "96ce37ce",
   "metadata": {},
   "outputs": [],
   "source": [
    "lr = LogisticRegression()"
   ]
  },
  {
   "cell_type": "markdown",
   "id": "db9af01a",
   "metadata": {},
   "source": [
    "## Training the model"
   ]
  },
  {
   "cell_type": "code",
   "execution_count": 12,
   "id": "04b42459",
   "metadata": {},
   "outputs": [],
   "source": [
    "lr.fit(X_train, y_train)\n",
    "#Hard predictions\n",
    "lr.predict(X_train)\n",
    "# Soft predictions\n",
    "y_pred = lr.predict_proba(X_train)[:,1]"
   ]
  },
  {
   "cell_type": "code",
   "execution_count": 13,
   "id": "098781ec",
   "metadata": {},
   "outputs": [],
   "source": [
    "y_val_pred = lr.predict_proba(X_val)[:,1]\n",
    "y_val_pred\n",
    "churn_decision = (y_pred >= 0.5)\n",
    "churn_decision_val = (y_val_pred >= 0.5)"
   ]
  },
  {
   "cell_type": "code",
   "execution_count": 14,
   "id": "4057bcde",
   "metadata": {},
   "outputs": [
    {
     "data": {
      "text/plain": [
       "0.8034066713981547"
      ]
     },
     "execution_count": 14,
     "metadata": {},
     "output_type": "execute_result"
    }
   ],
   "source": [
    "(y_val == churn_decision_val).mean()"
   ]
  },
  {
   "cell_type": "code",
   "execution_count": 15,
   "id": "22a3ec26",
   "metadata": {},
   "outputs": [
    {
     "data": {
      "text/html": [
       "<div>\n",
       "<style scoped>\n",
       "    .dataframe tbody tr th:only-of-type {\n",
       "        vertical-align: middle;\n",
       "    }\n",
       "\n",
       "    .dataframe tbody tr th {\n",
       "        vertical-align: top;\n",
       "    }\n",
       "\n",
       "    .dataframe thead th {\n",
       "        text-align: right;\n",
       "    }\n",
       "</style>\n",
       "<table border=\"1\" class=\"dataframe\">\n",
       "  <thead>\n",
       "    <tr style=\"text-align: right;\">\n",
       "      <th></th>\n",
       "      <th>probability</th>\n",
       "      <th>prediction</th>\n",
       "      <th>actual</th>\n",
       "      <th>correct</th>\n",
       "    </tr>\n",
       "  </thead>\n",
       "  <tbody>\n",
       "    <tr>\n",
       "      <th>0</th>\n",
       "      <td>0.095477</td>\n",
       "      <td>0</td>\n",
       "      <td>0</td>\n",
       "      <td>True</td>\n",
       "    </tr>\n",
       "    <tr>\n",
       "      <th>1</th>\n",
       "      <td>0.679322</td>\n",
       "      <td>1</td>\n",
       "      <td>0</td>\n",
       "      <td>False</td>\n",
       "    </tr>\n",
       "    <tr>\n",
       "      <th>2</th>\n",
       "      <td>0.633674</td>\n",
       "      <td>1</td>\n",
       "      <td>1</td>\n",
       "      <td>True</td>\n",
       "    </tr>\n",
       "    <tr>\n",
       "      <th>3</th>\n",
       "      <td>0.717521</td>\n",
       "      <td>1</td>\n",
       "      <td>0</td>\n",
       "      <td>False</td>\n",
       "    </tr>\n",
       "    <tr>\n",
       "      <th>4</th>\n",
       "      <td>0.047681</td>\n",
       "      <td>0</td>\n",
       "      <td>0</td>\n",
       "      <td>True</td>\n",
       "    </tr>\n",
       "    <tr>\n",
       "      <th>...</th>\n",
       "      <td>...</td>\n",
       "      <td>...</td>\n",
       "      <td>...</td>\n",
       "      <td>...</td>\n",
       "    </tr>\n",
       "    <tr>\n",
       "      <th>4220</th>\n",
       "      <td>0.132772</td>\n",
       "      <td>0</td>\n",
       "      <td>0</td>\n",
       "      <td>True</td>\n",
       "    </tr>\n",
       "    <tr>\n",
       "      <th>4221</th>\n",
       "      <td>0.304563</td>\n",
       "      <td>0</td>\n",
       "      <td>0</td>\n",
       "      <td>True</td>\n",
       "    </tr>\n",
       "    <tr>\n",
       "      <th>4222</th>\n",
       "      <td>0.531617</td>\n",
       "      <td>1</td>\n",
       "      <td>1</td>\n",
       "      <td>True</td>\n",
       "    </tr>\n",
       "    <tr>\n",
       "      <th>4223</th>\n",
       "      <td>0.042544</td>\n",
       "      <td>0</td>\n",
       "      <td>0</td>\n",
       "      <td>True</td>\n",
       "    </tr>\n",
       "    <tr>\n",
       "      <th>4224</th>\n",
       "      <td>0.698723</td>\n",
       "      <td>1</td>\n",
       "      <td>1</td>\n",
       "      <td>True</td>\n",
       "    </tr>\n",
       "  </tbody>\n",
       "</table>\n",
       "<p>4225 rows × 4 columns</p>\n",
       "</div>"
      ],
      "text/plain": [
       "      probability  prediction  actual  correct\n",
       "0        0.095477           0       0     True\n",
       "1        0.679322           1       0    False\n",
       "2        0.633674           1       1     True\n",
       "3        0.717521           1       0    False\n",
       "4        0.047681           0       0     True\n",
       "...           ...         ...     ...      ...\n",
       "4220     0.132772           0       0     True\n",
       "4221     0.304563           0       0     True\n",
       "4222     0.531617           1       1     True\n",
       "4223     0.042544           0       0     True\n",
       "4224     0.698723           1       1     True\n",
       "\n",
       "[4225 rows x 4 columns]"
      ]
     },
     "execution_count": 15,
     "metadata": {},
     "output_type": "execute_result"
    }
   ],
   "source": [
    "df_pred = pd.DataFrame()\n",
    "df_pred['probability'] = y_pred\n",
    "df_pred['prediction'] = churn_decision.astype(int)\n",
    "df_pred['actual'] = y_train\n",
    "df_pred['correct'] = df_pred.actual == df_pred.prediction\n",
    "df_pred"
   ]
  },
  {
   "cell_type": "markdown",
   "id": "f3677ce9",
   "metadata": {},
   "source": [
    "## Confusion table"
   ]
  },
  {
   "cell_type": "code",
   "execution_count": 18,
   "id": "c8cb77ea",
   "metadata": {},
   "outputs": [],
   "source": [
    "actual_positive = (y_val == 1)\n",
    "actual_negative = (y_val == 0)"
   ]
  },
  {
   "cell_type": "code",
   "execution_count": 19,
   "id": "3ae31748",
   "metadata": {},
   "outputs": [],
   "source": [
    "threshold = 0.5\n",
    "predict_positive = (y_val_pred >= threshold)\n",
    "predict_negative = (y_val_pred < threshold)"
   ]
  },
  {
   "cell_type": "code",
   "execution_count": 20,
   "id": "700fae6a",
   "metadata": {},
   "outputs": [
    {
     "data": {
      "text/plain": [
       "array([False, False, False,  True, False])"
      ]
     },
     "execution_count": 20,
     "metadata": {},
     "output_type": "execute_result"
    }
   ],
   "source": [
    "actual_positive[:5]"
   ]
  },
  {
   "cell_type": "code",
   "execution_count": 21,
   "id": "ba11c213",
   "metadata": {},
   "outputs": [
    {
     "data": {
      "text/plain": [
       "array([False, False, False,  True, False])"
      ]
     },
     "execution_count": 21,
     "metadata": {},
     "output_type": "execute_result"
    }
   ],
   "source": [
    "predict_positive[:5]"
   ]
  },
  {
   "cell_type": "code",
   "execution_count": 22,
   "id": "e9e7d5e0",
   "metadata": {},
   "outputs": [
    {
     "data": {
      "text/plain": [
       "210"
      ]
     },
     "execution_count": 22,
     "metadata": {},
     "output_type": "execute_result"
    }
   ],
   "source": [
    "tn = (predict_negative & actual_negative).sum()\n",
    "tp = (predict_positive & actual_positive).sum()\n",
    "tp"
   ]
  },
  {
   "cell_type": "code",
   "execution_count": 23,
   "id": "12f33092",
   "metadata": {},
   "outputs": [
    {
     "data": {
      "text/plain": [
       "176"
      ]
     },
     "execution_count": 23,
     "metadata": {},
     "output_type": "execute_result"
    }
   ],
   "source": [
    "fp = (predict_positive & actual_negative).sum()\n",
    "fn = (predict_negative & actual_positive).sum()\n",
    "fn"
   ]
  },
  {
   "cell_type": "code",
   "execution_count": 24,
   "id": "9ed7e231",
   "metadata": {},
   "outputs": [],
   "source": [
    "confusion_matrix = np.array([\n",
    "    [tn, fp],\n",
    "    [fn, tp]\n",
    "])"
   ]
  },
  {
   "cell_type": "code",
   "execution_count": 25,
   "id": "bb62a3bc",
   "metadata": {},
   "outputs": [
    {
     "data": {
      "text/plain": [
       "array([[0.65, 0.07],\n",
       "       [0.12, 0.15]])"
      ]
     },
     "execution_count": 25,
     "metadata": {},
     "output_type": "execute_result"
    }
   ],
   "source": [
    "(confusion_matrix / confusion_matrix.sum()).round(2)"
   ]
  },
  {
   "cell_type": "markdown",
   "id": "f837a5db",
   "metadata": {},
   "source": [
    "## Accuracy"
   ]
  },
  {
   "cell_type": "code",
   "execution_count": 26,
   "id": "4b4b40b0",
   "metadata": {},
   "outputs": [
    {
     "data": {
      "text/plain": [
       "0.8034066713981547"
      ]
     },
     "execution_count": 26,
     "metadata": {},
     "output_type": "execute_result"
    }
   ],
   "source": [
    "accuracy = ( tp + tn ) / ( tn + fp + fn + tp)\n",
    "accuracy"
   ]
  },
  {
   "cell_type": "markdown",
   "id": "48e244e2",
   "metadata": {},
   "source": [
    "## Precision\n",
    "- how many postive predictions are correct"
   ]
  },
  {
   "cell_type": "code",
   "execution_count": 27,
   "id": "a99ab8be",
   "metadata": {},
   "outputs": [
    {
     "data": {
      "text/plain": [
       "0.6752411575562701"
      ]
     },
     "execution_count": 27,
     "metadata": {},
     "output_type": "execute_result"
    }
   ],
   "source": [
    "p = tp / ( tp + fp )\n",
    "p"
   ]
  },
  {
   "cell_type": "code",
   "execution_count": 28,
   "id": "1d59410d",
   "metadata": {},
   "outputs": [
    {
     "name": "stdout",
     "output_type": "stream",
     "text": [
      "failed to identify 0.4559585492227979\n"
     ]
    }
   ],
   "source": [
    "recall = tp/(tp+fn)\n",
    "recall\n",
    "print('failed to identify %s' %(1 - recall))"
   ]
  },
  {
   "cell_type": "code",
   "execution_count": 29,
   "id": "61cd0f44",
   "metadata": {},
   "outputs": [
    {
     "data": {
      "text/html": [
       "<div>\n",
       "<style scoped>\n",
       "    .dataframe tbody tr th:only-of-type {\n",
       "        vertical-align: middle;\n",
       "    }\n",
       "\n",
       "    .dataframe tbody tr th {\n",
       "        vertical-align: top;\n",
       "    }\n",
       "\n",
       "    .dataframe thead th {\n",
       "        text-align: right;\n",
       "    }\n",
       "</style>\n",
       "<table border=\"1\" class=\"dataframe\">\n",
       "  <thead>\n",
       "    <tr style=\"text-align: right;\">\n",
       "      <th></th>\n",
       "      <th>threshold</th>\n",
       "      <th>tn</th>\n",
       "      <th>fp</th>\n",
       "      <th>fn</th>\n",
       "      <th>tp</th>\n",
       "      <th>tpr</th>\n",
       "      <th>fpr</th>\n",
       "    </tr>\n",
       "  </thead>\n",
       "  <tbody>\n",
       "    <tr>\n",
       "      <th>0</th>\n",
       "      <td>0.0</td>\n",
       "      <td>0</td>\n",
       "      <td>1023</td>\n",
       "      <td>0</td>\n",
       "      <td>386</td>\n",
       "      <td>1.000000</td>\n",
       "      <td>1.000000</td>\n",
       "    </tr>\n",
       "    <tr>\n",
       "      <th>10</th>\n",
       "      <td>0.1</td>\n",
       "      <td>467</td>\n",
       "      <td>556</td>\n",
       "      <td>20</td>\n",
       "      <td>366</td>\n",
       "      <td>0.948187</td>\n",
       "      <td>0.543500</td>\n",
       "    </tr>\n",
       "    <tr>\n",
       "      <th>20</th>\n",
       "      <td>0.2</td>\n",
       "      <td>667</td>\n",
       "      <td>356</td>\n",
       "      <td>53</td>\n",
       "      <td>333</td>\n",
       "      <td>0.862694</td>\n",
       "      <td>0.347996</td>\n",
       "    </tr>\n",
       "    <tr>\n",
       "      <th>30</th>\n",
       "      <td>0.3</td>\n",
       "      <td>787</td>\n",
       "      <td>236</td>\n",
       "      <td>102</td>\n",
       "      <td>284</td>\n",
       "      <td>0.735751</td>\n",
       "      <td>0.230694</td>\n",
       "    </tr>\n",
       "    <tr>\n",
       "      <th>40</th>\n",
       "      <td>0.4</td>\n",
       "      <td>857</td>\n",
       "      <td>166</td>\n",
       "      <td>137</td>\n",
       "      <td>249</td>\n",
       "      <td>0.645078</td>\n",
       "      <td>0.162268</td>\n",
       "    </tr>\n",
       "    <tr>\n",
       "      <th>50</th>\n",
       "      <td>0.5</td>\n",
       "      <td>922</td>\n",
       "      <td>101</td>\n",
       "      <td>176</td>\n",
       "      <td>210</td>\n",
       "      <td>0.544041</td>\n",
       "      <td>0.098729</td>\n",
       "    </tr>\n",
       "    <tr>\n",
       "      <th>60</th>\n",
       "      <td>0.6</td>\n",
       "      <td>970</td>\n",
       "      <td>53</td>\n",
       "      <td>236</td>\n",
       "      <td>150</td>\n",
       "      <td>0.388601</td>\n",
       "      <td>0.051808</td>\n",
       "    </tr>\n",
       "    <tr>\n",
       "      <th>70</th>\n",
       "      <td>0.7</td>\n",
       "      <td>1003</td>\n",
       "      <td>20</td>\n",
       "      <td>310</td>\n",
       "      <td>76</td>\n",
       "      <td>0.196891</td>\n",
       "      <td>0.019550</td>\n",
       "    </tr>\n",
       "    <tr>\n",
       "      <th>80</th>\n",
       "      <td>0.8</td>\n",
       "      <td>1022</td>\n",
       "      <td>1</td>\n",
       "      <td>373</td>\n",
       "      <td>13</td>\n",
       "      <td>0.033679</td>\n",
       "      <td>0.000978</td>\n",
       "    </tr>\n",
       "    <tr>\n",
       "      <th>90</th>\n",
       "      <td>0.9</td>\n",
       "      <td>1023</td>\n",
       "      <td>0</td>\n",
       "      <td>386</td>\n",
       "      <td>0</td>\n",
       "      <td>0.000000</td>\n",
       "      <td>0.000000</td>\n",
       "    </tr>\n",
       "    <tr>\n",
       "      <th>100</th>\n",
       "      <td>1.0</td>\n",
       "      <td>1023</td>\n",
       "      <td>0</td>\n",
       "      <td>386</td>\n",
       "      <td>0</td>\n",
       "      <td>0.000000</td>\n",
       "      <td>0.000000</td>\n",
       "    </tr>\n",
       "  </tbody>\n",
       "</table>\n",
       "</div>"
      ],
      "text/plain": [
       "     threshold    tn    fp   fn   tp       tpr       fpr\n",
       "0          0.0     0  1023    0  386  1.000000  1.000000\n",
       "10         0.1   467   556   20  366  0.948187  0.543500\n",
       "20         0.2   667   356   53  333  0.862694  0.347996\n",
       "30         0.3   787   236  102  284  0.735751  0.230694\n",
       "40         0.4   857   166  137  249  0.645078  0.162268\n",
       "50         0.5   922   101  176  210  0.544041  0.098729\n",
       "60         0.6   970    53  236  150  0.388601  0.051808\n",
       "70         0.7  1003    20  310   76  0.196891  0.019550\n",
       "80         0.8  1022     1  373   13  0.033679  0.000978\n",
       "90         0.9  1023     0  386    0  0.000000  0.000000\n",
       "100        1.0  1023     0  386    0  0.000000  0.000000"
      ]
     },
     "execution_count": 29,
     "metadata": {},
     "output_type": "execute_result"
    }
   ],
   "source": [
    "def calc_tpr_fpr(y_val, y_pred):\n",
    "    scores = []\n",
    "\n",
    "    thresholds = np.linspace(0, 1, 101)\n",
    "    for t in thresholds:\n",
    "        threshold = t\n",
    "        actual_positive = (y_val == 1)\n",
    "        actual_negative = (y_val == 0)\n",
    "        predict_positive = (y_pred >= threshold)\n",
    "        predict_negative = (y_pred < threshold)\n",
    "\n",
    "        tn = (predict_negative & actual_negative).sum()\n",
    "        tp = (predict_positive & actual_positive).sum()\n",
    "\n",
    "        fp = (predict_positive & actual_negative).sum()\n",
    "        fn = (predict_negative & actual_positive).sum()\n",
    "\n",
    "        scores.append((t, tn, fp, fn, tp))\n",
    "\n",
    "    columns = ['threshold', 'tn', 'fp', 'fn', 'tp']\n",
    "    df_scores = pd.DataFrame(scores, columns = columns)\n",
    "    df_scores['tpr'] = df_scores.tp / (df_scores.tp + df_scores.fn)\n",
    "    df_scores['fpr'] = df_scores.fp / (df_scores.fp + df_scores.tn)\n",
    "    \n",
    "    return df_scores\n",
    "df_scores = calc_tpr_fpr(y_val, y_val_pred)\n",
    "# Each 10th records\n",
    "df_scores[::10]\n",
    "     "
   ]
  },
  {
   "cell_type": "markdown",
   "id": "d37461fd",
   "metadata": {},
   "source": [
    "---\n",
    "Random model prediction"
   ]
  },
  {
   "cell_type": "code",
   "execution_count": 30,
   "id": "f353a44c",
   "metadata": {},
   "outputs": [],
   "source": [
    "np.random.seed(1)\n",
    "y_rand = np.random.uniform(0,1, size=len(y_val))\n",
    "\n",
    "((y_rand >= 0.5) == y_val).mean()\n",
    "\n",
    "df_rand = calc_tpr_fpr(y_val, y_rand)"
   ]
  },
  {
   "cell_type": "code",
   "execution_count": 31,
   "id": "55c7bf40",
   "metadata": {},
   "outputs": [
    {
     "data": {
      "text/html": [
       "<div>\n",
       "<style scoped>\n",
       "    .dataframe tbody tr th:only-of-type {\n",
       "        vertical-align: middle;\n",
       "    }\n",
       "\n",
       "    .dataframe tbody tr th {\n",
       "        vertical-align: top;\n",
       "    }\n",
       "\n",
       "    .dataframe thead th {\n",
       "        text-align: right;\n",
       "    }\n",
       "</style>\n",
       "<table border=\"1\" class=\"dataframe\">\n",
       "  <thead>\n",
       "    <tr style=\"text-align: right;\">\n",
       "      <th></th>\n",
       "      <th>threshold</th>\n",
       "      <th>tn</th>\n",
       "      <th>fp</th>\n",
       "      <th>fn</th>\n",
       "      <th>tp</th>\n",
       "      <th>tpr</th>\n",
       "      <th>fpr</th>\n",
       "    </tr>\n",
       "  </thead>\n",
       "  <tbody>\n",
       "    <tr>\n",
       "      <th>0</th>\n",
       "      <td>0.0</td>\n",
       "      <td>0</td>\n",
       "      <td>1023</td>\n",
       "      <td>0</td>\n",
       "      <td>386</td>\n",
       "      <td>1.000000</td>\n",
       "      <td>1.000000</td>\n",
       "    </tr>\n",
       "    <tr>\n",
       "      <th>10</th>\n",
       "      <td>0.1</td>\n",
       "      <td>100</td>\n",
       "      <td>923</td>\n",
       "      <td>39</td>\n",
       "      <td>347</td>\n",
       "      <td>0.898964</td>\n",
       "      <td>0.902248</td>\n",
       "    </tr>\n",
       "    <tr>\n",
       "      <th>20</th>\n",
       "      <td>0.2</td>\n",
       "      <td>201</td>\n",
       "      <td>822</td>\n",
       "      <td>79</td>\n",
       "      <td>307</td>\n",
       "      <td>0.795337</td>\n",
       "      <td>0.803519</td>\n",
       "    </tr>\n",
       "    <tr>\n",
       "      <th>30</th>\n",
       "      <td>0.3</td>\n",
       "      <td>299</td>\n",
       "      <td>724</td>\n",
       "      <td>110</td>\n",
       "      <td>276</td>\n",
       "      <td>0.715026</td>\n",
       "      <td>0.707722</td>\n",
       "    </tr>\n",
       "    <tr>\n",
       "      <th>40</th>\n",
       "      <td>0.4</td>\n",
       "      <td>399</td>\n",
       "      <td>624</td>\n",
       "      <td>149</td>\n",
       "      <td>237</td>\n",
       "      <td>0.613990</td>\n",
       "      <td>0.609971</td>\n",
       "    </tr>\n",
       "    <tr>\n",
       "      <th>50</th>\n",
       "      <td>0.5</td>\n",
       "      <td>505</td>\n",
       "      <td>518</td>\n",
       "      <td>184</td>\n",
       "      <td>202</td>\n",
       "      <td>0.523316</td>\n",
       "      <td>0.506354</td>\n",
       "    </tr>\n",
       "    <tr>\n",
       "      <th>60</th>\n",
       "      <td>0.6</td>\n",
       "      <td>614</td>\n",
       "      <td>409</td>\n",
       "      <td>225</td>\n",
       "      <td>161</td>\n",
       "      <td>0.417098</td>\n",
       "      <td>0.399804</td>\n",
       "    </tr>\n",
       "    <tr>\n",
       "      <th>70</th>\n",
       "      <td>0.7</td>\n",
       "      <td>721</td>\n",
       "      <td>302</td>\n",
       "      <td>265</td>\n",
       "      <td>121</td>\n",
       "      <td>0.313472</td>\n",
       "      <td>0.295210</td>\n",
       "    </tr>\n",
       "    <tr>\n",
       "      <th>80</th>\n",
       "      <td>0.8</td>\n",
       "      <td>817</td>\n",
       "      <td>206</td>\n",
       "      <td>308</td>\n",
       "      <td>78</td>\n",
       "      <td>0.202073</td>\n",
       "      <td>0.201369</td>\n",
       "    </tr>\n",
       "    <tr>\n",
       "      <th>90</th>\n",
       "      <td>0.9</td>\n",
       "      <td>922</td>\n",
       "      <td>101</td>\n",
       "      <td>346</td>\n",
       "      <td>40</td>\n",
       "      <td>0.103627</td>\n",
       "      <td>0.098729</td>\n",
       "    </tr>\n",
       "    <tr>\n",
       "      <th>100</th>\n",
       "      <td>1.0</td>\n",
       "      <td>1023</td>\n",
       "      <td>0</td>\n",
       "      <td>386</td>\n",
       "      <td>0</td>\n",
       "      <td>0.000000</td>\n",
       "      <td>0.000000</td>\n",
       "    </tr>\n",
       "  </tbody>\n",
       "</table>\n",
       "</div>"
      ],
      "text/plain": [
       "     threshold    tn    fp   fn   tp       tpr       fpr\n",
       "0          0.0     0  1023    0  386  1.000000  1.000000\n",
       "10         0.1   100   923   39  347  0.898964  0.902248\n",
       "20         0.2   201   822   79  307  0.795337  0.803519\n",
       "30         0.3   299   724  110  276  0.715026  0.707722\n",
       "40         0.4   399   624  149  237  0.613990  0.609971\n",
       "50         0.5   505   518  184  202  0.523316  0.506354\n",
       "60         0.6   614   409  225  161  0.417098  0.399804\n",
       "70         0.7   721   302  265  121  0.313472  0.295210\n",
       "80         0.8   817   206  308   78  0.202073  0.201369\n",
       "90         0.9   922   101  346   40  0.103627  0.098729\n",
       "100        1.0  1023     0  386    0  0.000000  0.000000"
      ]
     },
     "execution_count": 31,
     "metadata": {},
     "output_type": "execute_result"
    }
   ],
   "source": [
    "df_rand[::10]"
   ]
  },
  {
   "cell_type": "markdown",
   "id": "7761e470",
   "metadata": {},
   "source": [
    "## Ideal model"
   ]
  },
  {
   "cell_type": "code",
   "execution_count": 32,
   "id": "4256402f",
   "metadata": {},
   "outputs": [
    {
     "data": {
      "text/plain": [
       "(1023, 386)"
      ]
     },
     "execution_count": 32,
     "metadata": {},
     "output_type": "execute_result"
    }
   ],
   "source": [
    "num_neg = (y_val == 0).sum()\n",
    "num_pos = (y_val == 1).sum()\n",
    "\n",
    "num_neg, num_pos"
   ]
  },
  {
   "cell_type": "code",
   "execution_count": 33,
   "id": "43676611",
   "metadata": {},
   "outputs": [
    {
     "data": {
      "text/plain": [
       "0.7260468417317246"
      ]
     },
     "execution_count": 33,
     "metadata": {},
     "output_type": "execute_result"
    }
   ],
   "source": [
    "y_ideal = np.repeat([0,1], [num_neg, num_pos])\n",
    "y_ideal_pred = np.linspace(0,1,  len(y_val ))\n",
    "\n",
    "((y_ideal_pred >= 0.726) == y_ideal).mean()\n",
    "## the best threshold to make prediction decision\n",
    "1 - y_val.mean()"
   ]
  },
  {
   "cell_type": "code",
   "execution_count": 34,
   "id": "7be37dee",
   "metadata": {},
   "outputs": [
    {
     "data": {
      "text/html": [
       "<div>\n",
       "<style scoped>\n",
       "    .dataframe tbody tr th:only-of-type {\n",
       "        vertical-align: middle;\n",
       "    }\n",
       "\n",
       "    .dataframe tbody tr th {\n",
       "        vertical-align: top;\n",
       "    }\n",
       "\n",
       "    .dataframe thead th {\n",
       "        text-align: right;\n",
       "    }\n",
       "</style>\n",
       "<table border=\"1\" class=\"dataframe\">\n",
       "  <thead>\n",
       "    <tr style=\"text-align: right;\">\n",
       "      <th></th>\n",
       "      <th>threshold</th>\n",
       "      <th>tn</th>\n",
       "      <th>fp</th>\n",
       "      <th>fn</th>\n",
       "      <th>tp</th>\n",
       "      <th>tpr</th>\n",
       "      <th>fpr</th>\n",
       "    </tr>\n",
       "  </thead>\n",
       "  <tbody>\n",
       "    <tr>\n",
       "      <th>0</th>\n",
       "      <td>0.0</td>\n",
       "      <td>0</td>\n",
       "      <td>1023</td>\n",
       "      <td>0</td>\n",
       "      <td>386</td>\n",
       "      <td>1.000000</td>\n",
       "      <td>1.000000</td>\n",
       "    </tr>\n",
       "    <tr>\n",
       "      <th>10</th>\n",
       "      <td>0.1</td>\n",
       "      <td>141</td>\n",
       "      <td>882</td>\n",
       "      <td>0</td>\n",
       "      <td>386</td>\n",
       "      <td>1.000000</td>\n",
       "      <td>0.862170</td>\n",
       "    </tr>\n",
       "    <tr>\n",
       "      <th>20</th>\n",
       "      <td>0.2</td>\n",
       "      <td>282</td>\n",
       "      <td>741</td>\n",
       "      <td>0</td>\n",
       "      <td>386</td>\n",
       "      <td>1.000000</td>\n",
       "      <td>0.724340</td>\n",
       "    </tr>\n",
       "    <tr>\n",
       "      <th>30</th>\n",
       "      <td>0.3</td>\n",
       "      <td>423</td>\n",
       "      <td>600</td>\n",
       "      <td>0</td>\n",
       "      <td>386</td>\n",
       "      <td>1.000000</td>\n",
       "      <td>0.586510</td>\n",
       "    </tr>\n",
       "    <tr>\n",
       "      <th>40</th>\n",
       "      <td>0.4</td>\n",
       "      <td>564</td>\n",
       "      <td>459</td>\n",
       "      <td>0</td>\n",
       "      <td>386</td>\n",
       "      <td>1.000000</td>\n",
       "      <td>0.448680</td>\n",
       "    </tr>\n",
       "    <tr>\n",
       "      <th>50</th>\n",
       "      <td>0.5</td>\n",
       "      <td>704</td>\n",
       "      <td>319</td>\n",
       "      <td>0</td>\n",
       "      <td>386</td>\n",
       "      <td>1.000000</td>\n",
       "      <td>0.311828</td>\n",
       "    </tr>\n",
       "    <tr>\n",
       "      <th>60</th>\n",
       "      <td>0.6</td>\n",
       "      <td>845</td>\n",
       "      <td>178</td>\n",
       "      <td>0</td>\n",
       "      <td>386</td>\n",
       "      <td>1.000000</td>\n",
       "      <td>0.173998</td>\n",
       "    </tr>\n",
       "    <tr>\n",
       "      <th>70</th>\n",
       "      <td>0.7</td>\n",
       "      <td>986</td>\n",
       "      <td>37</td>\n",
       "      <td>0</td>\n",
       "      <td>386</td>\n",
       "      <td>1.000000</td>\n",
       "      <td>0.036168</td>\n",
       "    </tr>\n",
       "    <tr>\n",
       "      <th>80</th>\n",
       "      <td>0.8</td>\n",
       "      <td>1023</td>\n",
       "      <td>0</td>\n",
       "      <td>104</td>\n",
       "      <td>282</td>\n",
       "      <td>0.730570</td>\n",
       "      <td>0.000000</td>\n",
       "    </tr>\n",
       "    <tr>\n",
       "      <th>90</th>\n",
       "      <td>0.9</td>\n",
       "      <td>1023</td>\n",
       "      <td>0</td>\n",
       "      <td>245</td>\n",
       "      <td>141</td>\n",
       "      <td>0.365285</td>\n",
       "      <td>0.000000</td>\n",
       "    </tr>\n",
       "    <tr>\n",
       "      <th>100</th>\n",
       "      <td>1.0</td>\n",
       "      <td>1023</td>\n",
       "      <td>0</td>\n",
       "      <td>385</td>\n",
       "      <td>1</td>\n",
       "      <td>0.002591</td>\n",
       "      <td>0.000000</td>\n",
       "    </tr>\n",
       "  </tbody>\n",
       "</table>\n",
       "</div>"
      ],
      "text/plain": [
       "     threshold    tn    fp   fn   tp       tpr       fpr\n",
       "0          0.0     0  1023    0  386  1.000000  1.000000\n",
       "10         0.1   141   882    0  386  1.000000  0.862170\n",
       "20         0.2   282   741    0  386  1.000000  0.724340\n",
       "30         0.3   423   600    0  386  1.000000  0.586510\n",
       "40         0.4   564   459    0  386  1.000000  0.448680\n",
       "50         0.5   704   319    0  386  1.000000  0.311828\n",
       "60         0.6   845   178    0  386  1.000000  0.173998\n",
       "70         0.7   986    37    0  386  1.000000  0.036168\n",
       "80         0.8  1023     0  104  282  0.730570  0.000000\n",
       "90         0.9  1023     0  245  141  0.365285  0.000000\n",
       "100        1.0  1023     0  385    1  0.002591  0.000000"
      ]
     },
     "execution_count": 34,
     "metadata": {},
     "output_type": "execute_result"
    }
   ],
   "source": [
    "df_ideal = calc_tpr_fpr(y_ideal, y_ideal_pred)\n",
    "df_ideal[::10]"
   ]
  },
  {
   "cell_type": "code",
   "execution_count": 35,
   "id": "2260d99e",
   "metadata": {},
   "outputs": [
    {
     "data": {
      "text/plain": [
       "<matplotlib.legend.Legend at 0x7f6ea06cca90>"
      ]
     },
     "execution_count": 35,
     "metadata": {},
     "output_type": "execute_result"
    },
    {
     "data": {
      "image/png": "[encoded data removed]",
      "text/plain": [
       "<Figure size 640x480 with 1 Axes>"
      ]
     },
     "metadata": {},
     "output_type": "display_data"
    }
   ],
   "source": [
    "plt.plot(df_scores.threshold, df_scores.tpr, label='TPR')\n",
    "plt.plot(df_scores.threshold, df_scores.fpr, label='FPR')\n",
    "\n",
    "plt.plot(df_rand.threshold, df_rand.tpr, label='TPR_rand')\n",
    "plt.plot(df_rand.threshold, df_rand .fpr, label='FPR_rand')\n",
    "\n",
    "plt.plot(df_ideal.threshold, df_ideal.tpr, label='TPR_ideal')\n",
    "plt.plot(df_ideal.threshold, df_ideal.fpr, label='FPR_ideal')\n",
    "plt.legend()"
   ]
  },
  {
   "cell_type": "code",
   "execution_count": 36,
   "id": "3fb086c7",
   "metadata": {},
   "outputs": [
    {
     "data": {
      "text/plain": [
       "Text(0, 0.5, 'TPR')"
      ]
     },
     "execution_count": 36,
     "metadata": {},
     "output_type": "execute_result"
    },
    {
     "data": {
      "image/png": "[encoded data removed]",
      "text/plain": [
       "<Figure size 500x500 with 1 Axes>"
      ]
     },
     "metadata": {},
     "output_type": "display_data"
    }
   ],
   "source": [
    "plt.figure(figsize=(5,5))\n",
    "\n",
    "plt.plot(df_scores.fpr, df_scores.tpr, label='model')\n",
    "plt.plot(df_rand.fpr, df_rand.tpr, label='random')\n",
    "plt.plot(df_ideal.fpr, df_ideal.tpr, label='ideal')\n",
    "\n",
    "plt.xlabel('FPR')\n",
    "plt.ylabel('TPR')"
   ]
  },
  {
   "cell_type": "markdown",
   "id": "2e9d4740",
   "metadata": {},
   "source": [
    "## ROC from sklearn metrics"
   ]
  },
  {
   "cell_type": "code",
   "execution_count": 26,
   "id": "fb6795f1",
   "metadata": {},
   "outputs": [],
   "source": [
    "from sklearn.metrics import roc_curve"
   ]
  },
  {
   "cell_type": "code",
   "execution_count": 38,
   "id": "825baf39",
   "metadata": {},
   "outputs": [],
   "source": [
    "fpr, tpr, thresholds = roc_curve(y_val, y_val_pred)"
   ]
  },
  {
   "cell_type": "code",
   "execution_count": 67,
   "id": "cd44353d",
   "metadata": {},
   "outputs": [
    {
     "data": {
      "text/plain": [
       "Text(0, 0.5, 'TPR')"
      ]
     },
     "execution_count": 67,
     "metadata": {},
     "output_type": "execute_result"
    },
    {
     "data": {
      "image/png": "[encoded data removed]",
      "text/plain": [
       "<Figure size 640x480 with 1 Axes>"
      ]
     },
     "metadata": {},
     "output_type": "display_data"
    }
   ],
   "source": [
    "plt.plot(fpr, tpr, label='model')\n",
    "plt.plot(df_rand.fpr, df_rand.tpr, label='random', linestyle='--')\n",
    "plt.legend()\n",
    "\n",
    "plt.xlabel('FPR')\n",
    "plt.ylabel('TPR')"
   ]
  },
  {
   "cell_type": "code",
   "execution_count": 25,
   "id": "6440f914",
   "metadata": {},
   "outputs": [],
   "source": [
    "from sklearn.metrics import auc\n",
    "from sklearn.metrics import roc_auc_score"
   ]
  },
  {
   "cell_type": "code",
   "execution_count": 41,
   "id": "c9fefc10",
   "metadata": {},
   "outputs": [
    {
     "data": {
      "text/plain": [
       "0.843850505725819"
      ]
     },
     "execution_count": 41,
     "metadata": {},
     "output_type": "execute_result"
    }
   ],
   "source": [
    "auc(fpr, tpr)"
   ]
  },
  {
   "cell_type": "code",
   "execution_count": 42,
   "id": "d3d667af",
   "metadata": {},
   "outputs": [
    {
     "data": {
      "text/plain": [
       "0.8438732975754537"
      ]
     },
     "execution_count": 42,
     "metadata": {},
     "output_type": "execute_result"
    }
   ],
   "source": [
    "auc(df_scores.fpr, df_scores.tpr)"
   ]
  },
  {
   "cell_type": "code",
   "execution_count": 43,
   "id": "a56fec0c",
   "metadata": {},
   "outputs": [
    {
     "data": {
      "text/plain": [
       "0.9999430203759136"
      ]
     },
     "execution_count": 43,
     "metadata": {},
     "output_type": "execute_result"
    }
   ],
   "source": [
    "auc(df_ideal.fpr, df_ideal.tpr)"
   ]
  },
  {
   "cell_type": "markdown",
   "id": "0f8dd723",
   "metadata": {},
   "source": [
    "***Calculate FPR TPR and Area under the curve in one step***"
   ]
  },
  {
   "cell_type": "code",
   "execution_count": 45,
   "id": "e4c9f3ec",
   "metadata": {},
   "outputs": [
    {
     "data": {
      "text/plain": [
       "0.843850505725819"
      ]
     },
     "execution_count": 45,
     "metadata": {},
     "output_type": "execute_result"
    }
   ],
   "source": [
    "roc_auc_score(y_val, y_val_pred)"
   ]
  },
  {
   "cell_type": "code",
   "execution_count": 56,
   "id": "2cdcd17c",
   "metadata": {},
   "outputs": [],
   "source": [
    "negative = y_val_pred[y_val == 0]\n",
    "positive = y_val_pred[y_val == 1]"
   ]
  },
  {
   "cell_type": "code",
   "execution_count": 57,
   "id": "0b1bc625",
   "metadata": {},
   "outputs": [
    {
     "data": {
      "text/plain": [
       "(386,)"
      ]
     },
     "execution_count": 57,
     "metadata": {},
     "output_type": "execute_result"
    }
   ],
   "source": [
    "postive.shape"
   ]
  },
  {
   "cell_type": "code",
   "execution_count": 55,
   "id": "45b3c352",
   "metadata": {},
   "outputs": [],
   "source": [
    "import random"
   ]
  },
  {
   "cell_type": "code",
   "execution_count": 68,
   "id": "26baca60",
   "metadata": {},
   "outputs": [
    {
     "data": {
      "text/plain": [
       "0.84353"
      ]
     },
     "execution_count": 68,
     "metadata": {},
     "output_type": "execute_result"
    }
   ],
   "source": [
    "success = 0\n",
    "for i in range(100000):\n",
    "    pos_index = random.randint(0, len(positive)-1)\n",
    "    neg_index = random.randint(0, len(negative )-1)\n",
    "    \n",
    "    success += 1 if positive[pos_index] > negative[neg_index] else 0\n",
    "\n",
    "success / 100000"
   ]
  },
  {
   "cell_type": "code",
   "execution_count": 69,
   "id": "e829c44f",
   "metadata": {},
   "outputs": [
    {
     "data": {
      "text/plain": [
       "0.84646"
      ]
     },
     "execution_count": 69,
     "metadata": {},
     "output_type": "execute_result"
    }
   ],
   "source": [
    "n = 50000\n",
    "np.random.seed(1)\n",
    "pos_ind = np.random.randint(0, len(positive), size = n)\n",
    "neg_ind = np.random.randint(0, len(negative), size = n)\n",
    "\n",
    "(positive[pos_ind] > negative[neg_ind]).mean()"
   ]
  },
  {
   "cell_type": "code",
   "execution_count": 33,
   "id": "4f3dfb64",
   "metadata": {},
   "outputs": [],
   "source": [
    "def train(df, y_train, C=1.0):\n",
    "    dicts = df[categorial + numerical].to_dict(orient='records')\n",
    "    dv = DictVectorizer(sparse = False)\n",
    "    X_train = dv.fit_transform(dicts)\n",
    "    \n",
    "    model = LogisticRegression(C=C, max_iter=1000)\n",
    "    model.fit(X_train, y_train)\n",
    "    \n",
    "    return dv, model\n",
    "\n",
    "def predict(df_train, dv, model):\n",
    "    dicts = df_train[categorial + numerical].to_dict(orient='records')\n",
    "    X = dv.transform(dicts)\n",
    "    \n",
    "    y_pred = model.predict_proba(X)[:,1]\n",
    "    \n",
    "    return y_pred\n",
    "    "
   ]
  },
  {
   "cell_type": "code",
   "execution_count": 18,
   "id": "9b09b779",
   "metadata": {},
   "outputs": [
    {
     "name": "stdout",
     "output_type": "stream",
     "text": [
      "Requirement already satisfied: tqdm in /home/ubuntu/anaconda3/lib/python3.11/site-packages (4.65.0)\r\n"
     ]
    }
   ],
   "source": [
    "!pip install tqdm"
   ]
  },
  {
   "cell_type": "code",
   "execution_count": 22,
   "id": "420a2836",
   "metadata": {},
   "outputs": [],
   "source": [
    "from sklearn.model_selection import KFold\n",
    "from tqdm.auto import tqdm"
   ]
  },
  {
   "cell_type": "code",
   "execution_count": 36,
   "id": "a7ab8746",
   "metadata": {},
   "outputs": [],
   "source": [
    "kfold = KFold(n_splits=5, shuffle=True, random_state=1)"
   ]
  },
  {
   "cell_type": "code",
   "execution_count": 37,
   "id": "da21a274",
   "metadata": {},
   "outputs": [
    {
     "data": {
      "application/vnd.jupyter.widget-view+json": {
       "model_id": "a67038676b6e4f71ae7f732f814dbbd5",
       "version_major": 2,
       "version_minor": 0
      },
      "text/plain": [
       "  0%|          | 0/7 [00:00<?, ?it/s]"
      ]
     },
     "metadata": {},
     "output_type": "display_data"
    },
    {
     "name": "stdout",
     "output_type": "stream",
     "text": [
      "0.001 0.825 +- 0.0090\n",
      "0.01 0.832 +- 0.0116\n",
      "0.1 0.835 +- 0.0111\n",
      "0.5 0.836 +- 0.0105\n",
      "1 0.837 +- 0.0101\n",
      "5 0.838 +- 0.0099\n",
      "10 0.838 +- 0.0096\n"
     ]
    }
   ],
   "source": [
    "scores = []\n",
    "for C in tqdm([0.001, 0.01, 0.1 , 0.5, 1, 5, 10]):\n",
    "    \n",
    "    for train_idx, val_idx in kfold.split(df_full_train) :\n",
    "        df_train = df_full_train.iloc[train_idx]\n",
    "        df_val = df_full_train.iloc[val_idx]\n",
    "\n",
    "        y_train = df_train.churn.values\n",
    "        y_val = df_val.churn.values\n",
    "\n",
    "        ## Train the model on the training dataset\n",
    "        dv, model = train(df_train, y_train, C=C)\n",
    "        ## Validate the model on the validation dataset\n",
    "        y_pred = predict(df_val, dv, model )\n",
    "        ## Evaluate the model accuracy\n",
    "        scores.append(roc_auc_score(y_val, y_pred))\n",
    "\n",
    "     \n",
    "#     print(scores)\n",
    "    print(C, '%.3f +- %.4f' %(np.mean(scores), np.std(scores)))\n",
    "    "
   ]
  },
  {
   "cell_type": "code",
   "execution_count": 39,
   "id": "8b32cc88",
   "metadata": {},
   "outputs": [
    {
     "data": {
      "text/plain": [
       "0.8572386167896259"
      ]
     },
     "execution_count": 39,
     "metadata": {},
     "output_type": "execute_result"
    }
   ],
   "source": [
    "## Train the model on the full training dataset\n",
    "dv, model = train(df_full_train, df_full_train.churn.values, C=1)\n",
    "## Validate the model on the test dataset\n",
    "y_test_pred = predict(df_test, dv, model )\n",
    "\n",
    "auc = roc_auc_score(y_test, y_test_pred)\n",
    "auc"
   ]
  },
  {
   "cell_type": "code",
   "execution_count": null,
   "id": "380b34ff",
   "metadata": {},
   "outputs": [],
   "source": []
  }
 ],
 "metadata": {
  "kernelspec": {
   "display_name": "Python 3 (ipykernel)",
   "language": "python",
   "name": "python3"
  },
  "language_info": {
   "codemirror_mode": {
    "name": "ipython",
    "version": 3
   },
   "file_extension": ".py",
   "mimetype": "text/x-python",
   "name": "python",
   "nbconvert_exporter": "python",
   "pygments_lexer": "ipython3",
   "version": "3.11.4"
  }
 },
 "nbformat": 4,
 "nbformat_minor": 5
}
