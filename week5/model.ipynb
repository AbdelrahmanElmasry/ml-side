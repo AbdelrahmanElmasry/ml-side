{
 "cells": [
  {
   "cell_type": "code",
   "execution_count": 1,
   "id": "d8032dc8",
   "metadata": {},
   "outputs": [],
   "source": [
    "import numpy as np\n",
    "import pandas as pd\n",
    "\n",
    "from sklearn.model_selection import train_test_split\n",
    "from sklearn.model_selection import KFold\n",
    "\n",
    "from sklearn.linear_model import LogisticRegression\n",
    "from sklearn.metrics import roc_auc_score\n",
    "from sklearn.feature_extraction import DictVectorizer"
   ]
  },
  {
   "cell_type": "code",
   "execution_count": 2,
   "id": "4848d55d",
   "metadata": {},
   "outputs": [],
   "source": [
    "df = pd.read_csv('data.csv')"
   ]
  },
  {
   "cell_type": "code",
   "execution_count": 3,
   "id": "f7dc4a6a",
   "metadata": {},
   "outputs": [],
   "source": [
    "df.columns = df.columns.str.lower().str.replace(' ','_')\n",
    "\n",
    "categorial_cols = list(df.dtypes[df.dtypes == 'object'].index)\n",
    "\n",
    "for col in categorial_cols:\n",
    "    df[col] = df[col].str.lower().str.replace(' ', '_')\n",
    "# Convert total_charges to numerical values, ignore errors as NA\n",
    "total_charges = pd.to_numeric(df.totalcharges, errors='coerce')\n",
    "df.totalcharges = total_charges\n",
    "df.totalcharges = df.totalcharges.fillna(0)\n",
    "# Filter dataframe by specific column, pick specific columns\n",
    "df[df['totalcharges'].isnull()][['customerid', 'totalcharges']]\n",
    "df.churn = (df.churn == 'yes').astype('int')"
   ]
  },
  {
   "cell_type": "code",
   "execution_count": 4,
   "id": "4d0f1e63",
   "metadata": {},
   "outputs": [],
   "source": [
    "df_full_train, df_test = train_test_split(df, test_size=0.2, random_state=1)\n",
    "y_test = df_test.churn.values\n",
    "# del df_full_train['churn']\n",
    "\n",
    "\n",
    "numerical = ['tenure', 'monthlycharges', 'totalcharges']\n",
    "categorial = ['gender', 'seniorcitizen', 'partner', 'dependents',\n",
    "     'phoneservice', 'multiplelines', 'internetservice',\n",
    "       'onlinesecurity', 'onlinebackup', 'deviceprotection', 'techsupport',\n",
    "       'streamingtv', 'streamingmovies', 'contract', 'paperlessbilling',\n",
    "       'paymentmethod']"
   ]
  },
  {
   "cell_type": "code",
   "execution_count": 5,
   "id": "2b01a4e0",
   "metadata": {},
   "outputs": [],
   "source": [
    "def train(df, y_train, C=1.0):\n",
    "    dicts = df[categorial + numerical].to_dict(orient='records')\n",
    "    dv = DictVectorizer(sparse = False)\n",
    "    X_train = dv.fit_transform(dicts)\n",
    "    \n",
    "    model = LogisticRegression(C=C, max_iter=1000)\n",
    "    model.fit(X_train, y_train)\n",
    "    \n",
    "    return dv, model\n",
    "\n",
    "def predict(df_train, dv, model):\n",
    "    dicts = df_train[categorial + numerical].to_dict(orient='records')\n",
    "    X = dv.transform(dicts)\n",
    "    \n",
    "    y_pred = model.predict_proba(X)[:,1]\n",
    "    \n",
    "    return y_pred"
   ]
  },
  {
   "cell_type": "code",
   "execution_count": 6,
   "id": "d7338cf4",
   "metadata": {},
   "outputs": [],
   "source": [
    "C = 1.0\n",
    "n_splits = 5"
   ]
  },
  {
   "cell_type": "code",
   "execution_count": 7,
   "id": "992b2bc1",
   "metadata": {},
   "outputs": [],
   "source": [
    "kfold = KFold(n_splits=n_splits, shuffle=True, random_state=1)"
   ]
  },
  {
   "cell_type": "code",
   "execution_count": 8,
   "id": "b43f5225",
   "metadata": {},
   "outputs": [],
   "source": [
    "scores = []\n",
    "for train_idx, val_idx in kfold.split(df_full_train) :\n",
    "    df_train = df_full_train.iloc[train_idx]\n",
    "    df_val = df_full_train.iloc[val_idx]\n",
    "\n",
    "    y_train = df_train.churn.values\n",
    "    y_val = df_val.churn.values\n",
    "\n",
    "    ## Train the model on the training dataset\n",
    "    dv, model = train(df_train, y_train, C=C)\n",
    "    ## Validate the model on the validation dataset\n",
    "    y_pred = predict(df_val, dv, model)\n",
    "    \n",
    "    ## Evaluate the model accuracy\n",
    "    scores.append(roc_auc_score(y_val, y_pred))"
   ]
  },
  {
   "cell_type": "code",
   "execution_count": 9,
   "id": "8f6bbb30",
   "metadata": {},
   "outputs": [
    {
     "data": {
      "text/plain": [
       "[0.8437723230055499,\n",
       " 0.8437437922129519,\n",
       " 0.8311780052177403,\n",
       " 0.8301684306452645,\n",
       " 0.8509028583979168]"
      ]
     },
     "execution_count": 9,
     "metadata": {},
     "output_type": "execute_result"
    }
   ],
   "source": [
    "scores"
   ]
  },
  {
   "cell_type": "code",
   "execution_count": 10,
   "id": "c89ab664",
   "metadata": {},
   "outputs": [
    {
     "data": {
      "text/plain": [
       "0.8572386167896259"
      ]
     },
     "execution_count": 10,
     "metadata": {},
     "output_type": "execute_result"
    }
   ],
   "source": [
    "## Train the model on the full training dataset\n",
    "dv, model = train(df_full_train, df_full_train.churn.values, C=1)\n",
    "## Validate the model on the test dataset\n",
    "y_test_pred = predict(df_test, dv, model )\n",
    "\n",
    "auc = roc_auc_score(y_test, y_test_pred)\n",
    "auc"
   ]
  },
  {
   "cell_type": "markdown",
   "id": "752d15ad",
   "metadata": {},
   "source": [
    "***Save the model***"
   ]
  },
  {
   "cell_type": "code",
   "execution_count": 11,
   "id": "b357522e",
   "metadata": {},
   "outputs": [],
   "source": [
    "import pickle"
   ]
  },
  {
   "cell_type": "code",
   "execution_count": 12,
   "id": "44e2cfbb",
   "metadata": {},
   "outputs": [
    {
     "data": {
      "text/plain": [
       "'model_C=1.0.bin'"
      ]
     },
     "execution_count": 12,
     "metadata": {},
     "output_type": "execute_result"
    }
   ],
   "source": [
    "output_file = f'model_C={C}.bin'\n",
    "output_file"
   ]
  },
  {
   "cell_type": "code",
   "execution_count": 13,
   "id": "e8f8e5af",
   "metadata": {},
   "outputs": [],
   "source": [
    "with open(output_file, 'wb') as f_out:\n",
    "    pickle.dump((dv, model), f_out)\n",
    "    f_out.close()"
   ]
  },
  {
   "cell_type": "markdown",
   "id": "25945cf9",
   "metadata": {},
   "source": [
    "***Load the model***"
   ]
  },
  {
   "cell_type": "code",
   "execution_count": 14,
   "id": "5225c28b",
   "metadata": {},
   "outputs": [],
   "source": [
    "import pickle"
   ]
  },
  {
   "cell_type": "code",
   "execution_count": 15,
   "id": "8b29f861",
   "metadata": {},
   "outputs": [],
   "source": [
    "model_file = 'model_C=1.0.bin'"
   ]
  },
  {
   "cell_type": "code",
   "execution_count": 16,
   "id": "ba8b1bef",
   "metadata": {},
   "outputs": [],
   "source": [
    "with open(model_file, 'rb') as f_in:\n",
    "    dv, model =  pickle.load(f_in) \n"
   ]
  },
  {
   "cell_type": "code",
   "execution_count": 17,
   "id": "a658be30",
   "metadata": {},
   "outputs": [
    {
     "data": {
      "text/plain": [
       "(DictVectorizer(sparse=False), LogisticRegression(C=1, max_iter=1000))"
      ]
     },
     "execution_count": 17,
     "metadata": {},
     "output_type": "execute_result"
    }
   ],
   "source": [
    "dv, model"
   ]
  },
  {
   "cell_type": "code",
   "execution_count": 22,
   "id": "284f81b5",
   "metadata": {},
   "outputs": [
    {
     "data": {
      "text/plain": [
       "array([0.13215883])"
      ]
     },
     "execution_count": 22,
     "metadata": {},
     "output_type": "execute_result"
    }
   ],
   "source": [
    "test_customer = {\n",
    " 'gender': 'male',\n",
    " 'seniorcitizen': 0,\n",
    " 'partner': 'yes',\n",
    " 'dependents': 'no',\n",
    " 'tenure': 67,\n",
    " 'phoneservice': 'yes',\n",
    " 'multiplelines': 'yes',\n",
    " 'internetservice': 'fiber_optic',\n",
    " 'onlinesecurity': 'no',\n",
    " 'onlinebackup': 'yes',\n",
    " 'deviceprotection': 'no',\n",
    " 'techsupport': 'no',\n",
    " 'streamingtv': 'yes',\n",
    " 'streamingmovies': 'no',\n",
    " 'contract': 'one_year',\n",
    " 'paperlessbilling': 'yes',\n",
    " 'paymentmethod': 'bank_transfer_(automatic)',\n",
    " 'monthlycharges': 88.4,\n",
    " 'totalcharges': 5798.3 \n",
    "}\n",
    "\n",
    "X = dv.transform([test_customer])\n",
    "model.predict_proba(X)[:,1]"
   ]
  },
  {
   "cell_type": "code",
   "execution_count": null,
   "id": "b2bd4cc6",
   "metadata": {},
   "outputs": [],
   "source": []
  }
 ],
 "metadata": {
  "kernelspec": {
   "display_name": "Python 3 (ipykernel)",
   "language": "python",
   "name": "python3"
  },
  "language_info": {
   "codemirror_mode": {
    "name": "ipython",
    "version": 3
   },
   "file_extension": ".py",
   "mimetype": "text/x-python",
   "name": "python",
   "nbconvert_exporter": "python",
   "pygments_lexer": "ipython3",
   "version": "3.11.4"
  }
 },
 "nbformat": 4,
 "nbformat_minor": 5
}
